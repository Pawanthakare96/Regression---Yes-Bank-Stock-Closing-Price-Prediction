{
 "cells": [
  {
   "cell_type": "markdown",
   "metadata": {
    "id": "vncDsAP0Gaoa"
   },
   "source": [
    "# **Project Name**    -\n",
    "\n"
   ]
  },
  {
   "cell_type": "markdown",
   "metadata": {
    "id": "beRrZCGUAJYm"
   },
   "source": [
    "##### **Project Type**    - EDA/Regression/Classification/Unsupervised\n",
    "##### **Contribution**    - Individual\n",
    "\n"
   ]
  },
  {
   "cell_type": "markdown",
   "metadata": {
    "id": "FJNUwmbgGyua"
   },
   "source": [
    "# **Project Summary -** YES Bank Stock Price Closing Prediction"
   ]
  },
  {
   "cell_type": "markdown",
   "metadata": {
    "id": "F6v_1wHtG2nS"
   },
   "source": [
    "The objective of this project is to predict the closing prices of YES Bank stocks based on historical data. By leveraging machine learning techniques and time series analysis, the project aims to provide insights that can assist investors in making informed decisions.\n",
    "\n",
    "Data Collection\n",
    "The data used for this analysis includes historical stock prices for YES Bank, encompassing the opening, high, low, and closing prices for a series of months.\n",
    "\n",
    "Data Preprocessing\n",
    "Data preprocessing involved several steps, including:\n",
    "\n",
    "Handling Missing Values: Ensuring the dataset was complete without any gaps.\n",
    "Normalization: Scaling the data to enhance model performance.\n",
    "Feature Engineering: Creating additional features such as moving averages and lagged values to capture trends.\n",
    "Exploratory Data Analysis (EDA)\n",
    "EDA was conducted to understand patterns in the stock data. Visualizations such as line plots of the closing prices over time were created to identify trends and seasonal patterns. Correlation analysis was performed to determine the relationships between features.\n",
    "\n",
    "Model Selection and Training\n",
    "Various machine learning algorithms were evaluated, including:\n",
    "\n",
    "Multiple Regression Model\n",
    "Random Forest\n",
    "Long Short-Term Memory (LSTM) Networks\n",
    "The LSTM model was ultimately selected due to its effectiveness in capturing sequential dependencies in time series data. The model was trained using a portion of the dataset, with hyperparameters optimized through validation.\n",
    "\n",
    "Model Evaluation\n",
    "The model's accuracy was assessed using metrics such as Mean Absolute Error (MAE) and Root Mean Squared Error (RMSE) on a test dataset. The LSTM model performed well, providing predictions that closely matched the actual closing prices.\n",
    "\n",
    "Results and Insights\n",
    "The final model was capable of predicting future closing prices for YES Bank. Insights derived from the analysis highlighted the importance of historical price trends, volatility, and market conditions in forecasting."
   ]
  },
  {
   "cell_type": "markdown",
   "metadata": {
    "id": "w6K7xa23Elo4"
   },
   "source": [
    "# **GitHub Link -**"
   ]
  },
  {
   "cell_type": "markdown",
   "metadata": {
    "id": "h1o69JH3Eqqn"
   },
   "source": [
    "Provide your GitHub Link here."
   ]
  },
  {
   "cell_type": "markdown",
   "metadata": {
    "id": "yQaldy8SH6Dl"
   },
   "source": [
    "# **Problem Statement**\n"
   ]
  },
  {
   "cell_type": "markdown",
   "metadata": {
    "id": "DpeJGUA3kjGy"
   },
   "source": [
    "**Write Problem Statement Here.**"
   ]
  },
  {
   "cell_type": "markdown",
   "metadata": {
    "id": "mDgbUHAGgjLW"
   },
   "source": [
    "# **General Guidelines** : -  "
   ]
  },
  {
   "cell_type": "markdown",
   "metadata": {
    "id": "ZrxVaUj-hHfC"
   },
   "source": [
    "1.   Well-structured, formatted, and commented code is required.\n",
    "2.   Exception Handling, Production Grade Code & Deployment Ready Code will be a plus. Those students will be awarded some additional credits.\n",
    "     \n",
    "     The additional credits will have advantages over other students during Star Student selection.\n",
    "       \n",
    "             [ Note: - Deployment Ready Code is defined as, the whole .ipynb notebook should be executable in one go\n",
    "                       without a single error logged. ]\n",
    "\n",
    "3.   Each and every logic should have proper comments.\n",
    "4. You may add as many number of charts you want. Make Sure for each and every chart the following format should be answered.\n",
    "        \n",
    "\n",
    "```\n",
    "# Chart visualization code\n",
    "```\n",
    "            \n",
    "\n",
    "*   Why did you pick the specific chart?\n",
    "*   What is/are the insight(s) found from the chart?\n",
    "* Will the gained insights help creating a positive business impact?\n",
    "Are there any insights that lead to negative growth? Justify with specific reason.\n",
    "\n",
    "5. You have to create at least 15 logical & meaningful charts having important insights.\n",
    "\n",
    "\n",
    "[ Hints : - Do the Vizualization in  a structured way while following \"UBM\" Rule.\n",
    "\n",
    "U - Univariate Analysis,\n",
    "\n",
    "B - Bivariate Analysis (Numerical - Categorical, Numerical - Numerical, Categorical - Categorical)\n",
    "\n",
    "M - Multivariate Analysis\n",
    " ]\n",
    "\n",
    "\n",
    "\n",
    "\n",
    "\n",
    "6. You may add more ml algorithms for model creation. Make sure for each and every algorithm, the following format should be answered.\n",
    "\n",
    "\n",
    "*   Explain the ML Model used and it's performance using Evaluation metric Score Chart.\n",
    "\n",
    "\n",
    "*   Cross- Validation & Hyperparameter Tuning\n",
    "\n",
    "*   Have you seen any improvement? Note down the improvement with updates Evaluation metric Score Chart.\n",
    "\n",
    "*   Explain each evaluation metric's indication towards business and the business impact pf the ML model used.\n",
    "\n",
    "\n",
    "\n",
    "\n",
    "\n",
    "\n",
    "\n",
    "\n",
    "\n",
    "\n",
    "\n",
    "\n",
    "\n",
    "\n",
    "\n",
    "\n",
    "\n",
    "\n"
   ]
  },
  {
   "cell_type": "markdown",
   "metadata": {
    "id": "O_i_v8NEhb9l"
   },
   "source": [
    "# ***Let's Begin !***"
   ]
  },
  {
   "cell_type": "markdown",
   "metadata": {
    "id": "HhfV-JJviCcP"
   },
   "source": [
    "## ***1. Know Your Data***"
   ]
  },
  {
   "cell_type": "markdown",
   "metadata": {
    "id": "Y3lxredqlCYt"
   },
   "source": [
    "### Import Libraries"
   ]
  },
  {
   "cell_type": "code",
   "execution_count": 155,
   "metadata": {
    "id": "M8Vqi-pPk-HR"
   },
   "outputs": [],
   "source": [
    "# Import Libraries\n",
    "import pandas as pd\n",
    "import numpy as np\n",
    "from sklearn.model_selection import train_test_split, GridSearchCV, RandomizedSearchCV\n",
    "from sklearn.ensemble import RandomForestRegressor, GradientBoostingRegressor\n",
    "\n",
    "from sklearn.preprocessing import OneHotEncoder, MinMaxScaler\n",
    "from sklearn.metrics import mean_squared_error, mean_absolute_error, r2_score\n",
    "from imblearn.over_sampling import SMOTE\n",
    "import matplotlib.pyplot as plt\n",
    "import joblib\n"
   ]
  },
  {
   "cell_type": "markdown",
   "metadata": {
    "id": "3RnN4peoiCZX"
   },
   "source": [
    "### Dataset Loading"
   ]
  },
  {
   "cell_type": "code",
   "execution_count": 13,
   "metadata": {
    "id": "4CkvbW_SlZ_R"
   },
   "outputs": [],
   "source": [
    "df=pd.read_csv(r'C:\\\\Data Science Project\\Yes Bank Stock Price Prediction/data_YesBank_StockPrices.csv')"
   ]
  },
  {
   "cell_type": "markdown",
   "metadata": {
    "id": "x71ZqKXriCWQ"
   },
   "source": [
    "### Dataset First View"
   ]
  },
  {
   "cell_type": "code",
   "execution_count": 15,
   "metadata": {
    "id": "LWNFOSvLl09H"
   },
   "outputs": [
    {
     "data": {
      "text/html": [
       "<div>\n",
       "<style scoped>\n",
       "    .dataframe tbody tr th:only-of-type {\n",
       "        vertical-align: middle;\n",
       "    }\n",
       "\n",
       "    .dataframe tbody tr th {\n",
       "        vertical-align: top;\n",
       "    }\n",
       "\n",
       "    .dataframe thead th {\n",
       "        text-align: right;\n",
       "    }\n",
       "</style>\n",
       "<table border=\"1\" class=\"dataframe\">\n",
       "  <thead>\n",
       "    <tr style=\"text-align: right;\">\n",
       "      <th></th>\n",
       "      <th>Date</th>\n",
       "      <th>Open</th>\n",
       "      <th>High</th>\n",
       "      <th>Low</th>\n",
       "      <th>Close</th>\n",
       "    </tr>\n",
       "  </thead>\n",
       "  <tbody>\n",
       "    <tr>\n",
       "      <th>0</th>\n",
       "      <td>Jul-05</td>\n",
       "      <td>13.00</td>\n",
       "      <td>14.00</td>\n",
       "      <td>11.25</td>\n",
       "      <td>12.46</td>\n",
       "    </tr>\n",
       "    <tr>\n",
       "      <th>1</th>\n",
       "      <td>Aug-05</td>\n",
       "      <td>12.58</td>\n",
       "      <td>14.88</td>\n",
       "      <td>12.55</td>\n",
       "      <td>13.42</td>\n",
       "    </tr>\n",
       "    <tr>\n",
       "      <th>2</th>\n",
       "      <td>Sep-05</td>\n",
       "      <td>13.48</td>\n",
       "      <td>14.87</td>\n",
       "      <td>12.27</td>\n",
       "      <td>13.30</td>\n",
       "    </tr>\n",
       "    <tr>\n",
       "      <th>3</th>\n",
       "      <td>Oct-05</td>\n",
       "      <td>13.20</td>\n",
       "      <td>14.47</td>\n",
       "      <td>12.40</td>\n",
       "      <td>12.99</td>\n",
       "    </tr>\n",
       "    <tr>\n",
       "      <th>4</th>\n",
       "      <td>Nov-05</td>\n",
       "      <td>13.35</td>\n",
       "      <td>13.88</td>\n",
       "      <td>12.88</td>\n",
       "      <td>13.41</td>\n",
       "    </tr>\n",
       "  </tbody>\n",
       "</table>\n",
       "</div>"
      ],
      "text/plain": [
       "     Date   Open   High    Low  Close\n",
       "0  Jul-05  13.00  14.00  11.25  12.46\n",
       "1  Aug-05  12.58  14.88  12.55  13.42\n",
       "2  Sep-05  13.48  14.87  12.27  13.30\n",
       "3  Oct-05  13.20  14.47  12.40  12.99\n",
       "4  Nov-05  13.35  13.88  12.88  13.41"
      ]
     },
     "execution_count": 15,
     "metadata": {},
     "output_type": "execute_result"
    }
   ],
   "source": [
    "df.head(5)"
   ]
  },
  {
   "cell_type": "code",
   "execution_count": 17,
   "metadata": {},
   "outputs": [
    {
     "data": {
      "text/html": [
       "<div>\n",
       "<style scoped>\n",
       "    .dataframe tbody tr th:only-of-type {\n",
       "        vertical-align: middle;\n",
       "    }\n",
       "\n",
       "    .dataframe tbody tr th {\n",
       "        vertical-align: top;\n",
       "    }\n",
       "\n",
       "    .dataframe thead th {\n",
       "        text-align: right;\n",
       "    }\n",
       "</style>\n",
       "<table border=\"1\" class=\"dataframe\">\n",
       "  <thead>\n",
       "    <tr style=\"text-align: right;\">\n",
       "      <th></th>\n",
       "      <th>Date</th>\n",
       "      <th>Open</th>\n",
       "      <th>High</th>\n",
       "      <th>Low</th>\n",
       "      <th>Close</th>\n",
       "    </tr>\n",
       "  </thead>\n",
       "  <tbody>\n",
       "    <tr>\n",
       "      <th>180</th>\n",
       "      <td>Jul-20</td>\n",
       "      <td>25.60</td>\n",
       "      <td>28.30</td>\n",
       "      <td>11.10</td>\n",
       "      <td>11.95</td>\n",
       "    </tr>\n",
       "    <tr>\n",
       "      <th>181</th>\n",
       "      <td>Aug-20</td>\n",
       "      <td>12.00</td>\n",
       "      <td>17.16</td>\n",
       "      <td>11.85</td>\n",
       "      <td>14.37</td>\n",
       "    </tr>\n",
       "    <tr>\n",
       "      <th>182</th>\n",
       "      <td>Sep-20</td>\n",
       "      <td>14.30</td>\n",
       "      <td>15.34</td>\n",
       "      <td>12.75</td>\n",
       "      <td>13.15</td>\n",
       "    </tr>\n",
       "    <tr>\n",
       "      <th>183</th>\n",
       "      <td>Oct-20</td>\n",
       "      <td>13.30</td>\n",
       "      <td>14.01</td>\n",
       "      <td>12.11</td>\n",
       "      <td>12.42</td>\n",
       "    </tr>\n",
       "    <tr>\n",
       "      <th>184</th>\n",
       "      <td>Nov-20</td>\n",
       "      <td>12.41</td>\n",
       "      <td>14.90</td>\n",
       "      <td>12.21</td>\n",
       "      <td>14.67</td>\n",
       "    </tr>\n",
       "  </tbody>\n",
       "</table>\n",
       "</div>"
      ],
      "text/plain": [
       "       Date   Open   High    Low  Close\n",
       "180  Jul-20  25.60  28.30  11.10  11.95\n",
       "181  Aug-20  12.00  17.16  11.85  14.37\n",
       "182  Sep-20  14.30  15.34  12.75  13.15\n",
       "183  Oct-20  13.30  14.01  12.11  12.42\n",
       "184  Nov-20  12.41  14.90  12.21  14.67"
      ]
     },
     "execution_count": 17,
     "metadata": {},
     "output_type": "execute_result"
    }
   ],
   "source": [
    "df.tail(5)"
   ]
  },
  {
   "cell_type": "markdown",
   "metadata": {
    "id": "7hBIi_osiCS2"
   },
   "source": [
    "### Dataset Rows & Columns count"
   ]
  },
  {
   "cell_type": "code",
   "execution_count": 25,
   "metadata": {
    "id": "Kllu7SJgmLij"
   },
   "outputs": [
    {
     "data": {
      "text/plain": [
       "Index(['Date', 'Open', 'High', 'Low', 'Close'], dtype='object')"
      ]
     },
     "execution_count": 25,
     "metadata": {},
     "output_type": "execute_result"
    }
   ],
   "source": [
    "# Columns in dataset\n",
    "df.columns"
   ]
  },
  {
   "cell_type": "code",
   "execution_count": 31,
   "metadata": {},
   "outputs": [
    {
     "data": {
      "text/plain": [
       "5"
      ]
     },
     "execution_count": 31,
     "metadata": {},
     "output_type": "execute_result"
    }
   ],
   "source": [
    "# No of columns\n",
    "df.shape[1]"
   ]
  },
  {
   "cell_type": "code",
   "execution_count": 33,
   "metadata": {},
   "outputs": [
    {
     "data": {
      "text/plain": [
       "185"
      ]
     },
     "execution_count": 33,
     "metadata": {},
     "output_type": "execute_result"
    }
   ],
   "source": [
    "# Total Rwos in dataset\n",
    "len(df)"
   ]
  },
  {
   "cell_type": "markdown",
   "metadata": {
    "id": "JlHwYmJAmNHm"
   },
   "source": [
    "### Dataset Information"
   ]
  },
  {
   "cell_type": "code",
   "execution_count": 35,
   "metadata": {
    "id": "e9hRXRi6meOf"
   },
   "outputs": [
    {
     "name": "stdout",
     "output_type": "stream",
     "text": [
      "<class 'pandas.core.frame.DataFrame'>\n",
      "RangeIndex: 185 entries, 0 to 184\n",
      "Data columns (total 5 columns):\n",
      " #   Column  Non-Null Count  Dtype  \n",
      "---  ------  --------------  -----  \n",
      " 0   Date    185 non-null    object \n",
      " 1   Open    185 non-null    float64\n",
      " 2   High    185 non-null    float64\n",
      " 3   Low     185 non-null    float64\n",
      " 4   Close   185 non-null    float64\n",
      "dtypes: float64(4), object(1)\n",
      "memory usage: 7.4+ KB\n"
     ]
    }
   ],
   "source": [
    "# Dataset Info\n",
    "df.info()"
   ]
  },
  {
   "cell_type": "markdown",
   "metadata": {
    "id": "35m5QtbWiB9F"
   },
   "source": [
    "#### Duplicate Values"
   ]
  },
  {
   "cell_type": "code",
   "execution_count": 39,
   "metadata": {
    "id": "1sLdpKYkmox0"
   },
   "outputs": [
    {
     "data": {
      "text/plain": [
       "0"
      ]
     },
     "execution_count": 39,
     "metadata": {},
     "output_type": "execute_result"
    }
   ],
   "source": [
    "# Dataset Duplicate Value Count\n",
    "\n",
    "df.duplicated().sum()"
   ]
  },
  {
   "cell_type": "markdown",
   "metadata": {
    "id": "PoPl-ycgm1ru"
   },
   "source": [
    "#### Missing Values/Null Values"
   ]
  },
  {
   "cell_type": "code",
   "execution_count": 43,
   "metadata": {
    "id": "GgHWkxvamxVg"
   },
   "outputs": [
    {
     "data": {
      "text/plain": [
       "Date     0\n",
       "Open     0\n",
       "High     0\n",
       "Low      0\n",
       "Close    0\n",
       "dtype: int64"
      ]
     },
     "execution_count": 43,
     "metadata": {},
     "output_type": "execute_result"
    }
   ],
   "source": [
    "# Missing Values/Null Values Count\n",
    "df.isnull().sum()"
   ]
  },
  {
   "cell_type": "markdown",
   "metadata": {
    "id": "H0kj-8xxnORC"
   },
   "source": [
    "### What did you know about your dataset?"
   ]
  },
  {
   "cell_type": "markdown",
   "metadata": {
    "id": "gfoNAAC-nUe_"
   },
   "source": [
    "#### Yes Bank stock price data contains follwing features \n",
    "Date: Indicates the period (month and year) for which the data is recorded. This column is categorical and formatted as \"Mon-YY\", e.g., \"Jul-05\".\n",
    "\n",
    "Open: The price at which the asset opened in the market at the beginning of the month.\n",
    "\n",
    "High: The highest price the asset reached during the month.\n",
    "\n",
    "Low: The lowest price the asset reached during the month.\n",
    "\n",
    "Close: The price at which the asset closed at the end of the month.\n",
    "\n",
    "#### There are total 5 columns and 185 records in a dataset.\n",
    "#### The Date column is in object we need to convert into datetime format or date format"
   ]
  },
  {
   "cell_type": "markdown",
   "metadata": {
    "id": "nA9Y7ga8ng1Z"
   },
   "source": [
    "## ***2. Understanding Your Variables***"
   ]
  },
  {
   "cell_type": "code",
   "execution_count": 52,
   "metadata": {
    "id": "j7xfkqrt5Ag5"
   },
   "outputs": [
    {
     "name": "stdout",
     "output_type": "stream",
     "text": [
      "Dataset Columns:\n",
      " Index(['Date', 'Open', 'High', 'Low', 'Close'], dtype='object')\n",
      "\n",
      "Dataset Description:\n",
      "              Open        High         Low       Close\n",
      "count  185.000000  185.000000  185.000000  185.000000\n",
      "mean   105.541405  116.104324   94.947838  105.204703\n",
      "std     98.879850  106.333497   91.219415   98.583153\n",
      "min     10.000000   11.240000    5.550000    9.980000\n",
      "25%     33.800000   36.140000   28.510000   33.450000\n",
      "50%     62.980000   72.550000   58.000000   62.540000\n",
      "75%    153.000000  169.190000  138.350000  153.300000\n",
      "max    369.950000  404.000000  345.500000  367.900000\n"
     ]
    }
   ],
   "source": [
    "# Dataset Columns\n",
    "\n",
    "print(\"Dataset Columns:\\n\", df.columns)\n",
    "\n",
    "# Describe the dataset\n",
    "print(\"\\nDataset Description:\\n\", df.describe())\n",
    "\n"
   ]
  },
  {
   "cell_type": "markdown",
   "metadata": {
    "id": "PBTbrJXOngz2"
   },
   "source": [
    "### Variables Description"
   ]
  },
  {
   "cell_type": "markdown",
   "metadata": {
    "id": "aJV4KIxSnxay"
   },
   "source": [
    "Date: Indicates the period (month and year) for which the data is recorded. This column is categorical and formatted as \"Mon-YY\", e.g., \"Jul-05\".\r\n",
    "\r\n",
    "Open: The price at which the asset opened in the market at the beginning of the month.\r\n",
    "\r\n",
    "High: The highest price the asset reached during the month.\r\n",
    "\r\n",
    "Low: The lowest price the asset reached during the month.\r\n",
    "\r\n",
    "Close: The price at which the asset closed at the end of the month."
   ]
  },
  {
   "cell_type": "markdown",
   "metadata": {
    "id": "u3PMJOP6ngxN"
   },
   "source": [
    "### Check Unique Values for each variable."
   ]
  },
  {
   "cell_type": "code",
   "execution_count": 59,
   "metadata": {
    "id": "zms12Yq5n-jE"
   },
   "outputs": [
    {
     "name": "stdout",
     "output_type": "stream",
     "text": [
      "Date : ['Jul-05' 'Aug-05' 'Sep-05' 'Oct-05' 'Nov-05' 'Dec-05' 'Jan-06' 'Feb-06'\n",
      " 'Mar-06' 'Apr-06' 'May-06' 'Jun-06' 'Jul-06' 'Aug-06' 'Sep-06' 'Oct-06'\n",
      " 'Nov-06' 'Dec-06' 'Jan-07' 'Feb-07' 'Mar-07' 'Apr-07' 'May-07' 'Jun-07'\n",
      " 'Jul-07' 'Aug-07' 'Sep-07' 'Oct-07' 'Nov-07' 'Dec-07' 'Jan-08' 'Feb-08'\n",
      " 'Mar-08' 'Apr-08' 'May-08' 'Jun-08' 'Jul-08' 'Aug-08' 'Sep-08' 'Oct-08'\n",
      " 'Nov-08' 'Dec-08' 'Jan-09' 'Feb-09' 'Mar-09' 'Apr-09' 'May-09' 'Jun-09'\n",
      " 'Jul-09' 'Aug-09' 'Sep-09' 'Oct-09' 'Nov-09' 'Dec-09' 'Jan-10' 'Feb-10'\n",
      " 'Mar-10' 'Apr-10' 'May-10' 'Jun-10' 'Jul-10' 'Aug-10' 'Sep-10' 'Oct-10'\n",
      " 'Nov-10' 'Dec-10' 'Jan-11' 'Feb-11' 'Mar-11' 'Apr-11' 'May-11' 'Jun-11'\n",
      " 'Jul-11' 'Aug-11' 'Sep-11' 'Oct-11' 'Nov-11' 'Dec-11' 'Jan-12' 'Feb-12'\n",
      " 'Mar-12' 'Apr-12' 'May-12' 'Jun-12' 'Jul-12' 'Aug-12' 'Sep-12' 'Oct-12'\n",
      " 'Nov-12' 'Dec-12' 'Jan-13' 'Feb-13' 'Mar-13' 'Apr-13' 'May-13' 'Jun-13'\n",
      " 'Jul-13' 'Aug-13' 'Sep-13' 'Oct-13' 'Nov-13' 'Dec-13' 'Jan-14' 'Feb-14'\n",
      " 'Mar-14' 'Apr-14' 'May-14' 'Jun-14' 'Jul-14' 'Aug-14' 'Sep-14' 'Oct-14'\n",
      " 'Nov-14' 'Dec-14' 'Jan-15' 'Feb-15' 'Mar-15' 'Apr-15' 'May-15' 'Jun-15'\n",
      " 'Jul-15' 'Aug-15' 'Sep-15' 'Oct-15' 'Nov-15' 'Dec-15' 'Jan-16' 'Feb-16'\n",
      " 'Mar-16' 'Apr-16' 'May-16' 'Jun-16' 'Jul-16' 'Aug-16' 'Sep-16' 'Oct-16'\n",
      " 'Nov-16' 'Dec-16' 'Jan-17' 'Feb-17' 'Mar-17' 'Apr-17' 'May-17' 'Jun-17'\n",
      " 'Jul-17' 'Aug-17' 'Sep-17' 'Oct-17' 'Nov-17' 'Dec-17' 'Jan-18' 'Feb-18'\n",
      " 'Mar-18' 'Apr-18' 'May-18' 'Jun-18' 'Jul-18' 'Aug-18' 'Sep-18' 'Oct-18'\n",
      " 'Nov-18' 'Dec-18' 'Jan-19' 'Feb-19' 'Mar-19' 'Apr-19' 'May-19' 'Jun-19'\n",
      " 'Jul-19' 'Aug-19' 'Sep-19' 'Oct-19' 'Nov-19' 'Dec-19' 'Jan-20' 'Feb-20'\n",
      " 'Mar-20' 'Apr-20' 'May-20' 'Jun-20' 'Jul-20' 'Aug-20' 'Sep-20' 'Oct-20'\n",
      " 'Nov-20']\n",
      "Open : [ 13.    12.58  13.48  13.2   13.35  13.49  13.68  15.5   16.2   20.56\n",
      "  19.8   18.2   16.    15.9   18.    18.78  22.8   25.4   27.4   30.2\n",
      "  29.3   27.    30.66  33.89  35.98  37.5   37.4   41.8   44.4   46.4\n",
      "  49.99  50.88  48.9   33.9   34.3   31.22  22.85  25.    26.68  24.6\n",
      "  14.79  12.4   15.28  12.19  10.    10.04  15.94  25.6   29.7   31.98\n",
      "  33.8   41.2   46.58  50.98  53.6   49.    47.8   50.67  56.94  56.7\n",
      "  53.55  59.4   62.8   70.9   72.2   61.8   62.98  53.    51.84  62.\n",
      "  61.26  60.4   63.    62.9   56.    53.8   62.2   57.    47.92  65.9\n",
      "  69.    73.62  70.4   65.45  68.15  73.    66.2   76.4   82.54  89.2\n",
      "  93.2  104.41  94.    85.7  100.99  99.    92.4   66.    49.2   58.\n",
      "  74.    74.4   74.74  61.54  60.52  83.45  88.8  114.8  108.43 107.4\n",
      " 114.6  112.1  137.1  142.08 154.4  172.5  174.8  162.8  170.   177.\n",
      " 169.   165.9  135.61 146.96 151.73 153.   145.   150.4  138.8  172.02\n",
      " 189.8  206.4  221.96 244.   273.3  253.41 255.   235.4  231.98 280.4\n",
      " 290.6  309.6  326.   286.66 293.04 363.   351.   354.6  315.5  307.2\n",
      " 314.   355.   320.7  305.   362.85 348.   340.   369.95 347.2  180.\n",
      " 192.   174.   182.85 197.   234.6  277.   163.3  147.95 109.6   59.5\n",
      "  42.    71.    70.    46.9   39.1   35.2   22.3   27.8   27.75  12.\n",
      "  14.3   13.3   12.41]\n",
      "High : [ 14.    14.88  14.87  14.47  13.88  14.44  17.16  16.97  20.95  20.8\n",
      "  21.8   18.4   17.2   18.6   18.88  24.2   28.47  29.66  34.16  32.6\n",
      "  31.58  31.99  36.14  36.38  41.04  39.    41.75  47.3   50.98  54.\n",
      "  55.56  53.97  48.9   35.8   36.88  32.22  30.5   28.98  29.8   25.\n",
      "  17.8   16.56  18.34  12.5   11.24  17.51  28.84  31.08  33.16  35.18\n",
      "  41.3   52.34  54.98  55.67  57.58  51.48  52.06  59.48  58.08  59.9\n",
      "  60.94  68.88  71.74  76.    77.6   68.36  63.54  57.69  65.2   68.26\n",
      "  61.68  63.39  68.    63.96  60.08  64.8   63.7   59.8   66.5   74.8\n",
      "  77.88  76.1   70.59  70.6   73.19  74.78  77.69  84.2   89.6   95.\n",
      " 107.   107.8  100.15 101.8  109.43 102.94 100.4   67.81  78.94  76.44\n",
      "  77.27  83.    76.35  62.7   83.36  94.98 117.6  117.57 114.46 118.69\n",
      " 126.85 137.8  143.91 155.   179.   173.88 182.   172.8  176.96 179.4\n",
      " 175.58 169.19 155.5  155.94 157.96 154.52 149.9  157.85 175.12 190.44\n",
      " 209.   223.   247.18 275.   290.   265.5  262.72 245.   284.31 294.19\n",
      " 311.57 330.58 330.3  306.34 372.   368.52 383.25 375.75 329.8  319.\n",
      " 366.   366.5  325.8  368.75 364.4  350.1  393.35 404.   350.   268.45\n",
      " 231.4  194.3  236.3  236.9  281.3  285.9  178.05 153.8  110.6   92.4\n",
      "  72.55  76.65  75.35  70.5   48.5   40.7   87.95  30.45  31.6   31.95\n",
      "  28.3   15.34  14.01  14.9 ]\n",
      "Low : [ 11.25  12.55  12.27  12.4   12.88  13.    13.58  15.4   16.02  18.02\n",
      "  15.8   13.4   13.82  15.7   16.8   18.5   21.4   24.4   27.    26.8\n",
      "  23.31  26.2   29.11  30.4   35.02  30.2   35.3   33.6   40.02  45.\n",
      "  30.24  44.4   24.11  28.51  30.03  22.62  20.4   24.62  21.7   11.01\n",
      "  11.13  11.48   9.9    8.16   9.94  14.76  23.    24.83  29.    32.\n",
      "  36.8   42.84  48.6   46.42  44.6   47.3   48.8   50.66  52.6   53.02\n",
      "  59.01  62.51  68.21  58.    55.44  49.39  46.71  50.8   60.5   54.5\n",
      "  54.8   61.36  50.51  51.2   48.1   52.04  47.4   46.11  63.6   66.2\n",
      "  69.11  58.85  62.14  67.57  65.27  64.46  75.6   82.22  88.01  93.2\n",
      "  93.4   83.42  83.43  97.2   87.15  57.71  43.22  44.8   56.08  64.65\n",
      "  71.63  60.8   58.42  60.34  80.8   86.98 101.62 100.44 103.31 107.18\n",
      " 109.2  132.44 134.   150.47 156.1  156.8  154.53 157.8  158.9  156.45\n",
      " 118.   127.   141.73 144.03 133.71 126.45 132.74 138.35 165.33 181.28\n",
      " 201.14 221.35 240.68 231.2  245.8  219.1  218.25 226.3  275.61 283.6\n",
      " 300.2  275.15 280.21 290.78 337.37 345.5  299.   296.   300.65 307.35\n",
      " 304.65 285.1  303.3  325.7  327.35 332.45 338.   166.15 168.6  147.\n",
      " 160.2  181.15 167.65 228.8  165.3  133.05  98.75  81.75  53.15  40.95\n",
      "  29.05  59.95  40.7   36.55   5.55  20.3   25.2   25.55  11.1   11.85\n",
      "  12.75  12.11  12.21]\n",
      "Close : [ 12.46  13.42  13.3   12.99  13.41  13.71  15.33  16.12  20.08  19.49\n",
      "  18.03  15.62  16.16  17.84  18.46  22.78  25.32  26.97  30.16  28.63\n",
      "  28.14  30.31  33.51  35.98  37.93  36.99  41.36  43.48  46.18  49.81\n",
      "  50.54  49.42  33.75  34.06  31.13  22.85  25.45  26.83  24.13  13.58\n",
      "  12.26  15.03  12.24  10.26   9.98  15.45  25.12  29.68  31.93  33.45\n",
      "  40.99  47.31  50.57  53.41  49.84  47.32  50.97  57.1   57.57  53.83\n",
      "  58.99  62.22  70.3   71.86  61.21  62.54  52.59  51.29  61.98  61.02\n",
      "  60.07  62.38  62.13  55.61  54.5   62.9   54.49  47.72  65.99  69.14\n",
      "  73.46  70.07  66.02  67.83  72.85  65.97  76.44  82.29  88.48  92.84\n",
      " 104.41  94.5   85.71 100.28  97.49  92.2   64.76  48.65  57.5   73.76\n",
      "  73.74  74.02  61.59  60.95  82.7   88.14 113.89 108.38 108.21 114.33\n",
      " 111.7  136.83 142.08 154.57 172.5  172.55 163.31 167.96 176.52 168.6\n",
      " 165.74 137.9  145.92 151.82 153.3  145.23 149.38 137.67 172.91 188.73\n",
      " 206.39 221.3  243.44 272.56 250.85 253.52 234.28 231.26 279.1  290.56\n",
      " 309.82 326.14 286.38 292.37 361.96 351.15 350.   314.35 306.8  315.05\n",
      " 354.45 322.25 304.9  362.05 346.2  339.6  367.9  343.4  183.45 188.05\n",
      " 169.65 181.75 194.3  231.2  275.05 168.   147.95 108.7   91.3   59.5\n",
      "  41.45  70.45  68.3   46.95  39.2   34.55  22.45  27.95  26.85  25.6\n",
      "  11.95  14.37  13.15  12.42  14.67]\n"
     ]
    }
   ],
   "source": [
    "# Check Unique Values for each variable.\n",
    "\n",
    "for col in df.columns:\n",
    "    unique_value=df[col].unique()\n",
    "    print(f\"{col} : {unique_value}\")"
   ]
  },
  {
   "cell_type": "markdown",
   "metadata": {
    "id": "dauF4eBmngu3"
   },
   "source": [
    "## 3. ***Data Wrangling***"
   ]
  },
  {
   "cell_type": "markdown",
   "metadata": {
    "id": "bKJF3rekwFvQ"
   },
   "source": [
    "### Data Wrangling Code"
   ]
  },
  {
   "cell_type": "code",
   "execution_count": 65,
   "metadata": {
    "id": "wk-9a2fpoLcV"
   },
   "outputs": [
    {
     "name": "stdout",
     "output_type": "stream",
     "text": [
      "datetime64[ns]\n"
     ]
    }
   ],
   "source": [
    "#Convert the Date column to a datetime type for easier manipulation.\n",
    "df['Date'] = pd.to_datetime(df['Date'], format='%b-%y')\n",
    "\n",
    "print(df['Date'].dtypes)\n"
   ]
  },
  {
   "cell_type": "code",
   "execution_count": 71,
   "metadata": {},
   "outputs": [
    {
     "data": {
      "text/html": [
       "<div>\n",
       "<style scoped>\n",
       "    .dataframe tbody tr th:only-of-type {\n",
       "        vertical-align: middle;\n",
       "    }\n",
       "\n",
       "    .dataframe tbody tr th {\n",
       "        vertical-align: top;\n",
       "    }\n",
       "\n",
       "    .dataframe thead th {\n",
       "        text-align: right;\n",
       "    }\n",
       "</style>\n",
       "<table border=\"1\" class=\"dataframe\">\n",
       "  <thead>\n",
       "    <tr style=\"text-align: right;\">\n",
       "      <th></th>\n",
       "      <th>Date</th>\n",
       "      <th>Open</th>\n",
       "      <th>High</th>\n",
       "      <th>Low</th>\n",
       "      <th>Close</th>\n",
       "      <th>Range</th>\n",
       "    </tr>\n",
       "  </thead>\n",
       "  <tbody>\n",
       "    <tr>\n",
       "      <th>0</th>\n",
       "      <td>2005-07-01</td>\n",
       "      <td>13.00</td>\n",
       "      <td>14.00</td>\n",
       "      <td>11.25</td>\n",
       "      <td>12.46</td>\n",
       "      <td>2.75</td>\n",
       "    </tr>\n",
       "    <tr>\n",
       "      <th>1</th>\n",
       "      <td>2005-08-01</td>\n",
       "      <td>12.58</td>\n",
       "      <td>14.88</td>\n",
       "      <td>12.55</td>\n",
       "      <td>13.42</td>\n",
       "      <td>2.33</td>\n",
       "    </tr>\n",
       "    <tr>\n",
       "      <th>2</th>\n",
       "      <td>2005-09-01</td>\n",
       "      <td>13.48</td>\n",
       "      <td>14.87</td>\n",
       "      <td>12.27</td>\n",
       "      <td>13.30</td>\n",
       "      <td>2.60</td>\n",
       "    </tr>\n",
       "    <tr>\n",
       "      <th>3</th>\n",
       "      <td>2005-10-01</td>\n",
       "      <td>13.20</td>\n",
       "      <td>14.47</td>\n",
       "      <td>12.40</td>\n",
       "      <td>12.99</td>\n",
       "      <td>2.07</td>\n",
       "    </tr>\n",
       "    <tr>\n",
       "      <th>4</th>\n",
       "      <td>2005-11-01</td>\n",
       "      <td>13.35</td>\n",
       "      <td>13.88</td>\n",
       "      <td>12.88</td>\n",
       "      <td>13.41</td>\n",
       "      <td>1.00</td>\n",
       "    </tr>\n",
       "    <tr>\n",
       "      <th>...</th>\n",
       "      <td>...</td>\n",
       "      <td>...</td>\n",
       "      <td>...</td>\n",
       "      <td>...</td>\n",
       "      <td>...</td>\n",
       "      <td>...</td>\n",
       "    </tr>\n",
       "    <tr>\n",
       "      <th>180</th>\n",
       "      <td>2020-07-01</td>\n",
       "      <td>25.60</td>\n",
       "      <td>28.30</td>\n",
       "      <td>11.10</td>\n",
       "      <td>11.95</td>\n",
       "      <td>17.20</td>\n",
       "    </tr>\n",
       "    <tr>\n",
       "      <th>181</th>\n",
       "      <td>2020-08-01</td>\n",
       "      <td>12.00</td>\n",
       "      <td>17.16</td>\n",
       "      <td>11.85</td>\n",
       "      <td>14.37</td>\n",
       "      <td>5.31</td>\n",
       "    </tr>\n",
       "    <tr>\n",
       "      <th>182</th>\n",
       "      <td>2020-09-01</td>\n",
       "      <td>14.30</td>\n",
       "      <td>15.34</td>\n",
       "      <td>12.75</td>\n",
       "      <td>13.15</td>\n",
       "      <td>2.59</td>\n",
       "    </tr>\n",
       "    <tr>\n",
       "      <th>183</th>\n",
       "      <td>2020-10-01</td>\n",
       "      <td>13.30</td>\n",
       "      <td>14.01</td>\n",
       "      <td>12.11</td>\n",
       "      <td>12.42</td>\n",
       "      <td>1.90</td>\n",
       "    </tr>\n",
       "    <tr>\n",
       "      <th>184</th>\n",
       "      <td>2020-11-01</td>\n",
       "      <td>12.41</td>\n",
       "      <td>14.90</td>\n",
       "      <td>12.21</td>\n",
       "      <td>14.67</td>\n",
       "      <td>2.69</td>\n",
       "    </tr>\n",
       "  </tbody>\n",
       "</table>\n",
       "<p>185 rows × 6 columns</p>\n",
       "</div>"
      ],
      "text/plain": [
       "          Date   Open   High    Low  Close  Range\n",
       "0   2005-07-01  13.00  14.00  11.25  12.46   2.75\n",
       "1   2005-08-01  12.58  14.88  12.55  13.42   2.33\n",
       "2   2005-09-01  13.48  14.87  12.27  13.30   2.60\n",
       "3   2005-10-01  13.20  14.47  12.40  12.99   2.07\n",
       "4   2005-11-01  13.35  13.88  12.88  13.41   1.00\n",
       "..         ...    ...    ...    ...    ...    ...\n",
       "180 2020-07-01  25.60  28.30  11.10  11.95  17.20\n",
       "181 2020-08-01  12.00  17.16  11.85  14.37   5.31\n",
       "182 2020-09-01  14.30  15.34  12.75  13.15   2.59\n",
       "183 2020-10-01  13.30  14.01  12.11  12.42   1.90\n",
       "184 2020-11-01  12.41  14.90  12.21  14.67   2.69\n",
       "\n",
       "[185 rows x 6 columns]"
      ]
     },
     "execution_count": 71,
     "metadata": {},
     "output_type": "execute_result"
    }
   ],
   "source": [
    "# Sorting the data by date\n",
    "df = df.sort_values(by='Date')\n",
    "\n",
    "df\n"
   ]
  },
  {
   "cell_type": "markdown",
   "metadata": {
    "id": "MSa1f5Uengrz"
   },
   "source": [
    "### What all manipulations have you done and insights you found?"
   ]
  },
  {
   "cell_type": "markdown",
   "metadata": {
    "id": "LbyXE7I1olp8"
   },
   "source": [
    "#### In this daset we perform the data type conversion and created the new feature i.e range and sorted the datattype by date columns"
   ]
  },
  {
   "cell_type": "markdown",
   "metadata": {
    "id": "GF8Ens_Soomf"
   },
   "source": [
    "## ***4. Data Vizualization, Storytelling & Experimenting with charts : Understand the relationships between variables***"
   ]
  },
  {
   "cell_type": "markdown",
   "metadata": {
    "id": "0wOQAZs5pc--"
   },
   "source": [
    "#### Chart - 1"
   ]
  },
  {
   "cell_type": "code",
   "execution_count": 75,
   "metadata": {
    "id": "7v_ESjsspbW7"
   },
   "outputs": [
    {
     "data": {
      "image/png": "[encoded data removed]",
      "text/plain": [
       "<Figure size 1000x500 with 1 Axes>"
      ]
     },
     "metadata": {},
     "output_type": "display_data"
    }
   ],
   "source": [
    "# Line Chart of Closing Prices\n",
    "plt.figure(figsize=(10, 5))\n",
    "plt.plot(df['Date'], df['Close'], marker='o')\n",
    "plt.title('Closing Prices Over Time')\n",
    "plt.xlabel('Date')\n",
    "plt.ylabel('Closing Price')\n",
    "plt.grid()\n",
    "plt.xticks(rotation=45)\n",
    "plt.tight_layout()\n",
    "plt.show()"
   ]
  },
  {
   "cell_type": "markdown",
   "metadata": {
    "id": "K5QZ13OEpz2H"
   },
   "source": [
    "##### 1. Why did you pick the specific chart?"
   ]
  },
  {
   "cell_type": "markdown",
   "metadata": {
    "id": "XESiWehPqBRc"
   },
   "source": [
    "A line chart was chosen to visualize the trend of closing prices over time, clearly showing fluctuations and overall trends.\n"
   ]
  },
  {
   "cell_type": "markdown",
   "metadata": {
    "id": "lQ7QKXXCp7Bj"
   },
   "source": [
    "##### 2. What is/are the insight(s) found from the chart?"
   ]
  },
  {
   "cell_type": "markdown",
   "metadata": {
    "id": "C_j1G7yiqdRP"
   },
   "source": [
    "The closing prices generally show an upward trend, with fluctuations indicating periods of increased investor interest."
   ]
  },
  {
   "cell_type": "markdown",
   "metadata": {
    "id": "448CDAPjqfQr"
   },
   "source": [
    "##### 3. Will the gained insights help creating a positive business impact?\n",
    "Are there any insights that lead to negative growth? Justify with specific reason."
   ]
  },
  {
   "cell_type": "markdown",
   "metadata": {
    "id": "3cspy4FjqxJW"
   },
   "source": [
    "The upward trend could attract new investors. However, periods of decline may indicate volatility that could cause investor apprehension."
   ]
  },
  {
   "cell_type": "markdown",
   "metadata": {
    "id": "KSlN3yHqYklG"
   },
   "source": [
    "#### Chart - 2"
   ]
  },
  {
   "cell_type": "code",
   "execution_count": 77,
   "metadata": {
    "id": "R4YgtaqtYklH"
   },
   "outputs": [
    {
     "data": {
      "image/png": "[encoded data removed]",
      "text/plain": [
       "<Figure size 1000x500 with 1 Axes>"
      ]
     },
     "metadata": {},
     "output_type": "display_data"
    }
   ],
   "source": [
    "# Bar Chart of Monthly Highs and Lows\n",
    "plt.figure(figsize=(10, 5))\n",
    "plt.bar(df['Date'], df['High'], width=15, label='High', color='lightgreen', alpha=0.7)\n",
    "plt.bar(df['Date'], df['Low'], width=15, label='Low', color='salmon', alpha=0.7)\n",
    "plt.title('Monthly Highs and Lows')\n",
    "plt.xlabel('Date')\n",
    "plt.ylabel('Price')\n",
    "plt.legend()\n",
    "plt.grid()\n",
    "plt.xticks(rotation=45)\n",
    "plt.tight_layout()\n",
    "plt.show()"
   ]
  },
  {
   "cell_type": "markdown",
   "metadata": {
    "id": "t6dVpIINYklI"
   },
   "source": [
    "##### 1. Why did you pick the specific chart?"
   ]
  },
  {
   "cell_type": "markdown",
   "metadata": {
    "id": "5aaW0BYyYklI"
   },
   "source": [
    "A bar chart effectively compares high and low prices for each month, highlighting volatility.\n"
   ]
  },
  {
   "cell_type": "markdown",
   "metadata": {
    "id": "ijmpgYnKYklI"
   },
   "source": [
    "##### 2. What is/are the insight(s) found from the chart?"
   ]
  },
  {
   "cell_type": "markdown",
   "metadata": {
    "id": "PSx9atu2YklI"
   },
   "source": [
    "Certain months show significant volatility, particularly in July 2020."
   ]
  },
  {
   "cell_type": "markdown",
   "metadata": {
    "id": "-JiQyfWJYklI"
   },
   "source": [
    "##### 3. Will the gained insights help creating a positive business impact?\n",
    "Are there any insights that lead to negative growth? Justify with specific reason."
   ]
  },
  {
   "cell_type": "markdown",
   "metadata": {
    "id": "BcBbebzrYklV"
   },
   "source": [
    "Understanding volatility aids risk management. High volatility could deter conservative investors, impacting market participation."
   ]
  },
  {
   "cell_type": "markdown",
   "metadata": {
    "id": "EM7whBJCYoAo"
   },
   "source": [
    "#### Chart - 3"
   ]
  },
  {
   "cell_type": "code",
   "execution_count": 79,
   "metadata": {
    "id": "t6GMdE67YoAp"
   },
   "outputs": [
    {
     "data": {
      "image/png": "[encoded data removed]",
      "text/plain": [
       "<Figure size 1000x500 with 1 Axes>"
      ]
     },
     "metadata": {},
     "output_type": "display_data"
    }
   ],
   "source": [
    "#Scatter Plot of Open vs Close Prices\n",
    "plt.figure(figsize=(10, 5))\n",
    "plt.scatter(df['Open'], df['Close'], color='blue')\n",
    "plt.title('Open vs Close Prices')\n",
    "plt.xlabel('Open Price')\n",
    "plt.ylabel('Close Price')\n",
    "plt.grid()\n",
    "plt.tight_layout()\n",
    "plt.show()"
   ]
  },
  {
   "cell_type": "markdown",
   "metadata": {
    "id": "fge-S5ZAYoAp"
   },
   "source": [
    "##### 1. Why did you pick the specific chart?"
   ]
  },
  {
   "cell_type": "markdown",
   "metadata": {
    "id": "5dBItgRVYoAp"
   },
   "source": [
    "A scatter plot visualizes the relationship between opening and closing prices, revealing correlations."
   ]
  },
  {
   "cell_type": "markdown",
   "metadata": {
    "id": "85gYPyotYoAp"
   },
   "source": [
    "##### 2. What is/are the insight(s) found from the chart?"
   ]
  },
  {
   "cell_type": "markdown",
   "metadata": {
    "id": "4jstXR6OYoAp"
   },
   "source": [
    "There is a strong positive correlation between opening and closing prices."
   ]
  },
  {
   "cell_type": "markdown",
   "metadata": {
    "id": "RoGjAbkUYoAp"
   },
   "source": [
    "##### 3. Will the gained insights help creating a positive business impact?\n",
    "Are there any insights that lead to negative growth? Justify with specific reason."
   ]
  },
  {
   "cell_type": "markdown",
   "metadata": {
    "id": "zfJ8IqMcYoAp"
   },
   "source": [
    "This correlation can inform trading strategies. Negative deviations could indicate market instability."
   ]
  },
  {
   "cell_type": "markdown",
   "metadata": {
    "id": "4Of9eVA-YrdM"
   },
   "source": [
    "#### Chart - 4"
   ]
  },
  {
   "cell_type": "code",
   "execution_count": 81,
   "metadata": {
    "id": "irlUoxc8YrdO"
   },
   "outputs": [
    {
     "data": {
      "image/png": "[encoded data removed]",
      "text/plain": [
       "<Figure size 1000x500 with 1 Axes>"
      ]
     },
     "metadata": {},
     "output_type": "display_data"
    }
   ],
   "source": [
    "# Histogram of Price Ranges\n",
    "plt.figure(figsize=(10, 5))\n",
    "price_ranges = df['High'] - df['Low']\n",
    "plt.hist(price_ranges, bins=5, color='purple', alpha=0.7)\n",
    "plt.title('Distribution of Price Ranges')\n",
    "plt.xlabel('Price Range')\n",
    "plt.ylabel('Frequency')\n",
    "plt.grid()\n",
    "plt.tight_layout()\n",
    "plt.show()"
   ]
  },
  {
   "cell_type": "markdown",
   "metadata": {
    "id": "iky9q4vBYrdO"
   },
   "source": [
    "##### 1. Why did you pick the specific chart?"
   ]
  },
  {
   "cell_type": "markdown",
   "metadata": {
    "id": "aJRCwT6DYrdO"
   },
   "source": [
    "A histogram shows the distribution of price ranges, helping to understand frequency."
   ]
  },
  {
   "cell_type": "markdown",
   "metadata": {
    "id": "F6T5p64dYrdO"
   },
   "source": [
    "##### 2. What is/are the insight(s) found from the chart?"
   ]
  },
  {
   "cell_type": "markdown",
   "metadata": {
    "id": "Xx8WAJvtYrdO"
   },
   "source": [
    "Most price ranges fall between 2.0 and 3.0, indicating typical volatility."
   ]
  },
  {
   "cell_type": "markdown",
   "metadata": {
    "id": "y-Ehk30pYrdP"
   },
   "source": [
    "##### 3. Will the gained insights help creating a positive business impact?\n",
    "Are there any insights that lead to negative growth? Justify with specific reason."
   ]
  },
  {
   "cell_type": "markdown",
   "metadata": {
    "id": "jLNxxz7MYrdP"
   },
   "source": [
    "Knowing typical ranges aids in setting expectations. Consistent deviations could signal underlying issues."
   ]
  },
  {
   "cell_type": "markdown",
   "metadata": {
    "id": "bamQiAODYuh1"
   },
   "source": [
    "#### Chart - 5"
   ]
  },
  {
   "cell_type": "code",
   "execution_count": 97,
   "metadata": {
    "id": "TIJwrbroYuh3"
   },
   "outputs": [
    {
     "data": {
      "image/png": "[encoded data removed]",
      "text/plain": [
       "<Figure size 1000x500 with 1 Axes>"
      ]
     },
     "metadata": {},
     "output_type": "display_data"
    }
   ],
   "source": [
    "# Moving Average of Closing Prices\n",
    "df['Moving Average'] = df['Close'].rolling(window=3).mean()\n",
    "plt.figure(figsize=(10, 5))\n",
    "plt.plot(df['Date'], df['Close'], marker='o', label='Closing Price')\n",
    "plt.plot(df['Date'], df['Moving Average'], color='orange', label='3-Month Moving Average', linestyle='--')\n",
    "plt.title('Closing Prices with Moving Average')\n",
    "plt.xlabel('Date')\n",
    "plt.ylabel('Price')\n",
    "plt.legend()\n",
    "plt.grid()\n",
    "plt.xticks(rotation=45)\n",
    "plt.tight_layout()\n",
    "plt.show()"
   ]
  },
  {
   "cell_type": "markdown",
   "metadata": {
    "id": "QHF8YVU7Yuh3"
   },
   "source": [
    "##### 1. Why did you pick the specific chart?"
   ]
  },
  {
   "cell_type": "markdown",
   "metadata": {
    "id": "dcxuIMRPYuh3"
   },
   "source": [
    "The moving average helps smooth out short-term fluctuations, showing a clearer long-term trend."
   ]
  },
  {
   "cell_type": "markdown",
   "metadata": {
    "id": "GwzvFGzlYuh3"
   },
   "source": [
    "##### 2. What is/are the insight(s) found from the chart?"
   ]
  },
  {
   "cell_type": "markdown",
   "metadata": {
    "id": "uyqkiB8YYuh3"
   },
   "source": [
    "his insight can guide investment decisions by highlighting periods of consistent growth or decline."
   ]
  },
  {
   "cell_type": "markdown",
   "metadata": {
    "id": "OH-pJp9IphqM"
   },
   "source": [
    "#### Chart - 6"
   ]
  },
  {
   "cell_type": "code",
   "execution_count": 99,
   "metadata": {
    "id": "kuRf4wtuphqN"
   },
   "outputs": [
    {
     "data": {
      "image/png": "[encoded data removed]",
      "text/plain": [
       "<Figure size 1000x500 with 1 Axes>"
      ]
     },
     "metadata": {},
     "output_type": "display_data"
    }
   ],
   "source": [
    "# Box Plot of Closing Prices\n",
    "plt.figure(figsize=(10, 5))\n",
    "plt.boxplot(df['Close'], vert=False)\n",
    "plt.title('Box Plot of Closing Prices')\n",
    "plt.xlabel('Closing Price')\n",
    "plt.grid()\n",
    "plt.tight_layout()\n",
    "plt.show()"
   ]
  },
  {
   "cell_type": "markdown",
   "metadata": {
    "id": "bbFf2-_FphqN"
   },
   "source": [
    "##### 1. Why did you pick the specific chart?"
   ]
  },
  {
   "cell_type": "markdown",
   "metadata": {
    "id": "loh7H2nzphqN"
   },
   "source": [
    "The box plot identifies the median, quartiles, and potential outliers in closing prices."
   ]
  },
  {
   "cell_type": "markdown",
   "metadata": {
    "id": "_ouA3fa0phqN"
   },
   "source": [
    "##### 2. What is/are the insight(s) found from the chart?"
   ]
  },
  {
   "cell_type": "markdown",
   "metadata": {
    "id": "VECbqPI7phqN"
   },
   "source": [
    "Recognizing outliers can inform risk assessments and investment strategies."
   ]
  },
  {
   "cell_type": "markdown",
   "metadata": {
    "id": "PIIx-8_IphqN"
   },
   "source": [
    "#### Chart - 7"
   ]
  },
  {
   "cell_type": "code",
   "execution_count": 103,
   "metadata": {
    "id": "lqAIGUfyphqO"
   },
   "outputs": [
    {
     "data": {
      "image/png": "[encoded data removed]",
      "text/plain": [
       "<Figure size 800x800 with 1 Axes>"
      ]
     },
     "metadata": {},
     "output_type": "display_data"
    }
   ],
   "source": [
    "#Pie Chart of Price Distribution\n",
    "prices = [df['High'].mean(), df['Low'].mean(), df['Close'].mean()]\n",
    "labels = ['Average High', 'Average Low', 'Average Close']\n",
    "plt.figure(figsize=(8, 8))\n",
    "plt.pie(prices, labels=labels, autopct='%1.1f%%', startangle=90)\n",
    "plt.title('Price Distribution')\n",
    "plt.axis('equal')\n",
    "plt.show()"
   ]
  },
  {
   "cell_type": "markdown",
   "metadata": {
    "id": "t27r6nlMphqO"
   },
   "source": [
    "##### 1. Why did you pick the specific chart?"
   ]
  },
  {
   "cell_type": "markdown",
   "metadata": {
    "id": "iv6ro40sphqO"
   },
   "source": [
    "The pie chart highlights the average high, low, and close prices, showing the distribution of values."
   ]
  },
  {
   "cell_type": "markdown",
   "metadata": {
    "id": "r2jJGEOYphqO"
   },
   "source": [
    "##### 2. What is/are the insight(s) found from the chart?"
   ]
  },
  {
   "cell_type": "markdown",
   "metadata": {
    "id": "Po6ZPi4hphqO"
   },
   "source": [
    "Understanding average prices can help in pricing strategies and market analysis."
   ]
  },
  {
   "cell_type": "markdown",
   "metadata": {
    "id": "BZR9WyysphqO"
   },
   "source": [
    "#### Chart - 8"
   ]
  },
  {
   "cell_type": "code",
   "execution_count": 107,
   "metadata": {
    "id": "TdPTWpAVphqO"
   },
   "outputs": [
    {
     "data": {
      "image/png": "[encoded data removed]",
      "text/plain": [
       "<Figure size 800x600 with 2 Axes>"
      ]
     },
     "metadata": {},
     "output_type": "display_data"
    }
   ],
   "source": [
    "# Calculate  price changes\n",
    "df['Change'] = df['Close'] - df['Open']\n",
    "correlation_matrix = df[['Open', 'Close', 'Change']].corr()\n",
    "\n",
    "#Heatmap\n",
    "plt.figure(figsize=(8, 6))\n",
    "sns.heatmap(correlation_matrix, annot=True, cmap='coolwarm', fmt=\".2f\")\n",
    "plt.title('Correlation Heatmap of Prices')\n",
    "plt.show()"
   ]
  },
  {
   "cell_type": "markdown",
   "metadata": {
    "id": "jj7wYXLtphqO"
   },
   "source": [
    "##### 1. Why did you pick the specific chart?"
   ]
  },
  {
   "cell_type": "markdown",
   "metadata": {
    "id": "Ob8u6rCTphqO"
   },
   "source": [
    "The heatmap reveals correlations between price changes, indicating how opening prices influence closing prices."
   ]
  },
  {
   "cell_type": "markdown",
   "metadata": {
    "id": "eZrbJ2SmphqO"
   },
   "source": [
    "##### 2. What is/are the insight(s) found from the chart?"
   ]
  },
  {
   "cell_type": "markdown",
   "metadata": {
    "id": "mZtgC_hjphqO"
   },
   "source": [
    "This insight can guide trading strategies and pricing decisions."
   ]
  },
  {
   "cell_type": "markdown",
   "metadata": {
    "id": "YJ55k-q6phqO"
   },
   "source": [
    "#### Chart - 9"
   ]
  },
  {
   "cell_type": "code",
   "execution_count": 109,
   "metadata": {
    "id": "B2aS4O1ophqO"
   },
   "outputs": [
    {
     "data": {
      "image/png": "[encoded data removed]",
      "text/plain": [
       "<Figure size 1000x500 with 1 Axes>"
      ]
     },
     "metadata": {},
     "output_type": "display_data"
    }
   ],
   "source": [
    "#Area Chart of Closing Prices\n",
    "plt.figure(figsize=(10, 5))\n",
    "plt.fill_between(df['Date'], df['Close'], color='skyblue', alpha=0.4)\n",
    "plt.plot(df['Date'], df['Close'], color='Slateblue', alpha=0.6, linewidth=2)\n",
    "plt.title('Area Chart of Closing Prices')\n",
    "plt.xlabel('Date')\n",
    "plt.ylabel('Closing Price')\n",
    "plt.xticks(rotation=45)\n",
    "plt.tight_layout()\n",
    "plt.show()"
   ]
  },
  {
   "cell_type": "markdown",
   "metadata": {
    "id": "gCFgpxoyphqP"
   },
   "source": [
    "##### 1. Why did you pick the specific chart?"
   ]
  },
  {
   "cell_type": "markdown",
   "metadata": {
    "id": "TVxDimi2phqP"
   },
   "source": [
    "The area chart emphasizes total closing prices over time, showing trends and overall market performance."
   ]
  },
  {
   "cell_type": "markdown",
   "metadata": {
    "id": "OVtJsKN_phqQ"
   },
   "source": [
    "##### 2. What is/are the insight(s) found from the chart?"
   ]
  },
  {
   "cell_type": "markdown",
   "metadata": {
    "id": "ngGi97qjphqQ"
   },
   "source": [
    "This visualization can help identify strong periods for investment."
   ]
  },
  {
   "cell_type": "markdown",
   "metadata": {
    "id": "g-ATYxFrGrvw"
   },
   "source": [
    "## ***5. Hypothesis Testing***"
   ]
  },
  {
   "cell_type": "markdown",
   "metadata": {
    "id": "Yfr_Vlr8HBkt"
   },
   "source": [
    "### Based on your chart experiments, define three hypothetical statements from the dataset. In the next three questions, perform hypothesis testing to obtain final conclusion about the statements through your code and statistical testing."
   ]
  },
  {
   "cell_type": "markdown",
   "metadata": {
    "id": "8yEUt7NnHlrM"
   },
   "source": [
    "### Hypothetical Statement - 1 \n",
    "\"The average closing price before 2010 is significantly different from the average closing price after 2010.\""
   ]
  },
  {
   "cell_type": "markdown",
   "metadata": {
    "id": "tEA2Xm5dHt1r"
   },
   "source": [
    "#### 1. State Your research hypothesis as a null hypothesis and alternate hypothesis."
   ]
  },
  {
   "cell_type": "markdown",
   "metadata": {
    "id": "HI9ZP0laH0D-"
   },
   "source": [
    "##### Null Hypothesis (H0): The average closing price before 2010 is equal to the average closing price after 2010.\n",
    "##### Alternate Hypothesis (H1): The average closing price before 2010 is not equal to the average closing price after 2010."
   ]
  },
  {
   "cell_type": "markdown",
   "metadata": {
    "id": "I79__PHVH19G"
   },
   "source": [
    "#### 2. Perform an appropriate statistical test."
   ]
  },
  {
   "cell_type": "code",
   "execution_count": 128,
   "metadata": {
    "id": "oZrfquKtyian"
   },
   "outputs": [
    {
     "name": "stdout",
     "output_type": "stream",
     "text": [
      "T-Statistic: -12.362749324953658, P-Value: 3.585220121904896e-24\n"
     ]
    }
   ],
   "source": [
    "# We will perform an independent t-test because we are comparing the means of two independent groups (before 2010 and after 2010).\n",
    "\n",
    "from scipy.stats import ttest_ind\n",
    "\n",
    "# Split data into two groups: before and after 2010\n",
    "df['Year'] = pd.to_datetime(df['Date']).dt.year\n",
    "before_2010 = df[df['Year'] < 2010]['Close']\n",
    "after_2010 = df[df['Year'] >= 2010]['Close']\n",
    "\n",
    "# Perform an independent t-test\n",
    "t_stat, p_value = ttest_ind(before_2010, after_2010, equal_var=False)\n",
    "\n",
    "print(f\"T-Statistic: {t_stat}, P-Value: {p_value}\")\n",
    "\n"
   ]
  },
  {
   "cell_type": "code",
   "execution_count": 134,
   "metadata": {},
   "outputs": [],
   "source": [
    "## Interpretation:\n",
    "## Since the p-value (3.585 × 10⁻²⁴) is much smaller than the significance level of 0.05, we reject the null hypothesis.\n",
    "## This means that the average closing price before 2010 is significantly different from the average closing price after 2010."
   ]
  },
  {
   "cell_type": "markdown",
   "metadata": {
    "id": "Ou-I18pAyIpj"
   },
   "source": [
    "##### Which statistical test have you done to obtain P-Value?"
   ]
  },
  {
   "cell_type": "markdown",
   "metadata": {
    "id": "s2U0kk00ygSB"
   },
   "source": [
    "Independent t-test."
   ]
  },
  {
   "cell_type": "markdown",
   "metadata": {
    "id": "fF3858GYyt-u"
   },
   "source": [
    "##### Why did you choose the specific statistical test?"
   ]
  },
  {
   "cell_type": "markdown",
   "metadata": {
    "id": "HO4K0gP5y3B4"
   },
   "source": [
    "The independent t-test is appropriate when comparing the means of two independent groups to see if there is a statistically significant difference."
   ]
  },
  {
   "cell_type": "markdown",
   "metadata": {
    "id": "4_0_7-oCpUZd"
   },
   "source": [
    "### Hypothetical Statement - 2\n",
    "\"The variance of the opening prices is equal to the variance of the closing prices.\""
   ]
  },
  {
   "cell_type": "markdown",
   "metadata": {
    "id": "hwyV_J3ipUZe"
   },
   "source": [
    "#### 1. State Your research hypothesis as a null hypothesis and alternate hypothesis."
   ]
  },
  {
   "cell_type": "markdown",
   "metadata": {
    "id": "FnpLGJ-4pUZe"
   },
   "source": [
    "Null Hypothesis (H0): The variance of the opening prices is equal to the variance of the closing prices.\n",
    "\n",
    "Alternate Hypothesis (H1): The variance of the opening prices is not equal to the variance of the closing prices."
   ]
  },
  {
   "cell_type": "markdown",
   "metadata": {
    "id": "3yB-zSqbpUZe"
   },
   "source": [
    "#### 2. Perform an appropriate statistical test."
   ]
  },
  {
   "cell_type": "code",
   "execution_count": 139,
   "metadata": {
    "id": "sWxdNTXNpUZe"
   },
   "outputs": [
    {
     "name": "stdout",
     "output_type": "stream",
     "text": [
      "Levene's Test Statistic: 0.0005462053395491644, P-Value: 0.981366975547854\n"
     ]
    }
   ],
   "source": [
    "from scipy.stats import levene\n",
    "\n",
    "# Perform Levene's test\n",
    "stat, p_value = levene(df['Open'], df['Close'])\n",
    "\n",
    "print(f\"Levene's Test Statistic: {stat}, P-Value: {p_value}\")\n"
   ]
  },
  {
   "cell_type": "code",
   "execution_count": 143,
   "metadata": {},
   "outputs": [],
   "source": [
    "## Interpretation:\n",
    "## Since the p-value (0.98137) is much greater than the significance level of 0.05, we fail to reject the null hypothesis.\n",
    "## This indicates that there is not enough evidence to suggest that the variances of the opening and closing prices are different."
   ]
  },
  {
   "cell_type": "markdown",
   "metadata": {
    "id": "dEUvejAfpUZe"
   },
   "source": [
    "##### Which statistical test have you done to obtain P-Value?"
   ]
  },
  {
   "cell_type": "markdown",
   "metadata": {
    "id": "oLDrPz7HpUZf"
   },
   "source": [
    "Levene’s test for equality of variances."
   ]
  },
  {
   "cell_type": "markdown",
   "metadata": {
    "id": "Fd15vwWVpUZf"
   },
   "source": [
    "##### Why did you choose the specific statistical test?"
   ]
  },
  {
   "cell_type": "markdown",
   "metadata": {
    "id": "4xOGYyiBpUZf"
   },
   "source": [
    "Levene's test is appropriate for testing the equality of variances between two groups, which helps determine if we should assume equal variances in further tests."
   ]
  },
  {
   "cell_type": "markdown",
   "metadata": {
    "id": "bn_IUdTipZyH"
   },
   "source": [
    "### Hypothetical Statement - 3\n",
    "\"The monthly price range is normally distributed.\""
   ]
  },
  {
   "cell_type": "markdown",
   "metadata": {
    "id": "49K5P_iCpZyH"
   },
   "source": [
    "#### 1. State Your research hypothesis as a null hypothesis and alternate hypothesis."
   ]
  },
  {
   "cell_type": "markdown",
   "metadata": {
    "id": "7gWI5rT9pZyH"
   },
   "source": [
    "Null Hypothesis (H0): The monthly price range is normally distributed.\n",
    "\n",
    "Alternate Hypothesis (H1): The monthly price range is not normally distributed."
   ]
  },
  {
   "cell_type": "markdown",
   "metadata": {
    "id": "Nff-vKELpZyI"
   },
   "source": [
    "#### 2. Perform an appropriate statistical test."
   ]
  },
  {
   "cell_type": "code",
   "execution_count": 147,
   "metadata": {
    "id": "s6AnJQjtpZyI"
   },
   "outputs": [
    {
     "name": "stdout",
     "output_type": "stream",
     "text": [
      "Shapiro-Wilk Test Statistic: 0.6986938482774092, P-Value: 5.348171918490665e-18\n"
     ]
    }
   ],
   "source": [
    "from scipy.stats import shapiro\n",
    "\n",
    "# Perform Shapiro-Wilk test for normality on the 'Range' column\n",
    "stat, p_value = shapiro(df['Range'])\n",
    "\n",
    "print(f\"Shapiro-Wilk Test Statistic: {stat}, P-Value: {p_value}\")\n"
   ]
  },
  {
   "cell_type": "code",
   "execution_count": 149,
   "metadata": {},
   "outputs": [],
   "source": [
    "# Interpretation:\n",
    "# Since the p-value (5.348 × 10⁻¹⁸) is much smaller than the significance level of 0.05, we reject the null hypothesis.\n",
    "# This means that the monthly price range is not normally distributed."
   ]
  },
  {
   "cell_type": "markdown",
   "metadata": {
    "id": "kLW572S8pZyI"
   },
   "source": [
    "##### Which statistical test have you done to obtain P-Value?"
   ]
  },
  {
   "cell_type": "markdown",
   "metadata": {
    "id": "ytWJ8v15pZyI"
   },
   "source": [
    "Shapiro-Wilk test for normality."
   ]
  },
  {
   "cell_type": "markdown",
   "metadata": {
    "id": "dWbDXHzopZyI"
   },
   "source": [
    "##### Why did you choose the specific statistical test?"
   ]
  },
  {
   "cell_type": "markdown",
   "metadata": {
    "id": "M99G98V6pZyI"
   },
   "source": [
    "The Shapiro-Wilk test is one of the most powerful tests for normality and is commonly used to check if data is normally distributed.\n"
   ]
  },
  {
   "cell_type": "markdown",
   "metadata": {
    "id": "yLjJCtPM0KBk"
   },
   "source": [
    "## ***6. Feature Engineering & Data Pre-processing***"
   ]
  },
  {
   "cell_type": "markdown",
   "metadata": {
    "id": "xiyOF9F70UgQ"
   },
   "source": [
    "### 1. Handling Missing Values"
   ]
  },
  {
   "cell_type": "code",
   "execution_count": null,
   "metadata": {},
   "outputs": [],
   "source": [
    "# No missing value in dataset "
   ]
  },
  {
   "cell_type": "markdown",
   "metadata": {
    "id": "id1riN9m0vUs"
   },
   "source": [
    "### 2. Handling Outliers"
   ]
  },
  {
   "cell_type": "code",
   "execution_count": 157,
   "metadata": {
    "id": "M6w2CzZf04JK"
   },
   "outputs": [],
   "source": [
    "# Handle missing values (if any)\n",
    "df.fillna(df.mean(), inplace=True)\n",
    "\n",
    "# Identify outliers using IQR method\n",
    "Q1 = df['Close'].quantile(0.25)\n",
    "Q3 = df['Close'].quantile(0.75)\n",
    "IQR = Q3 - Q1\n",
    "df = df[~((df['Close'] < (Q1 - 1.5 * IQR)) | (df['Close'] > (Q3 + 1.5 * IQR)))]"
   ]
  },
  {
   "cell_type": "markdown",
   "metadata": {
    "id": "578E2V7j08f6"
   },
   "source": [
    "##### What all outlier treatment techniques have you used and why did you use those techniques?"
   ]
  },
  {
   "cell_type": "markdown",
   "metadata": {
    "id": "uGZz5OrT1HH-"
   },
   "source": [
    "Answer IQR"
   ]
  },
  {
   "cell_type": "markdown",
   "metadata": {
    "id": "89xtkJwZ18nB"
   },
   "source": [
    "### 3. Categorical Encoding"
   ]
  },
  {
   "cell_type": "code",
   "execution_count": null,
   "metadata": {
    "id": "21JmIYMG2hEo"
   },
   "outputs": [],
   "source": [
    "# Encode your categorical columns"
   ]
  },
  {
   "cell_type": "markdown",
   "metadata": {
    "id": "67NQN5KX2AMe"
   },
   "source": [
    "#### What all categorical encoding techniques have you used & why did you use those techniques?"
   ]
  },
  {
   "cell_type": "markdown",
   "metadata": {
    "id": "UDaue5h32n_G"
   },
   "source": [
    "Answer Here."
   ]
  },
  {
   "cell_type": "markdown",
   "metadata": {
    "id": "-oLEiFgy-5Pf"
   },
   "source": [
    "### 4. Feature Manipulation & Selection"
   ]
  },
  {
   "cell_type": "markdown",
   "metadata": {
    "id": "C74aWNz2AliB"
   },
   "source": [
    "#### 1. Feature Manipulation"
   ]
  },
  {
   "cell_type": "code",
   "execution_count": 162,
   "metadata": {},
   "outputs": [
    {
     "data": {
      "text/plain": [
       "Index(['Date', 'Open', 'High', 'Low', 'Close', 'Range', 'Moving Average',\n",
       "       'Change', 'Year', 'Price_Change', 'High_Low_Range'],\n",
       "      dtype='object')"
      ]
     },
     "execution_count": 162,
     "metadata": {},
     "output_type": "execute_result"
    }
   ],
   "source": [
    "df.columns"
   ]
  },
  {
   "cell_type": "code",
   "execution_count": 160,
   "metadata": {
    "id": "h1qC4yhBApWC"
   },
   "outputs": [
    {
     "name": "stderr",
     "output_type": "stream",
     "text": [
      "C:\\Users\\pdtha\\AppData\\Local\\Temp\\ipykernel_23880\\3983503468.py:2: SettingWithCopyWarning: \n",
      "A value is trying to be set on a copy of a slice from a DataFrame.\n",
      "Try using .loc[row_indexer,col_indexer] = value instead\n",
      "\n",
      "See the caveats in the documentation: https://pandas.pydata.org/pandas-docs/stable/user_guide/indexing.html#returning-a-view-versus-a-copy\n",
      "  df['Price_Change'] = df['Close'] - df['Open']\n",
      "C:\\Users\\pdtha\\AppData\\Local\\Temp\\ipykernel_23880\\3983503468.py:3: SettingWithCopyWarning: \n",
      "A value is trying to be set on a copy of a slice from a DataFrame.\n",
      "Try using .loc[row_indexer,col_indexer] = value instead\n",
      "\n",
      "See the caveats in the documentation: https://pandas.pydata.org/pandas-docs/stable/user_guide/indexing.html#returning-a-view-versus-a-copy\n",
      "  df['High_Low_Range'] = df['High'] - df['Low']\n"
     ]
    }
   ],
   "source": [
    "## Feature Manipulation (Creating new features)\n",
    "df['Price_Change'] = df['Close'] - df['Open']\n",
    "df['High_Low_Range'] = df['High'] - df['Low']"
   ]
  },
  {
   "cell_type": "markdown",
   "metadata": {
    "id": "TNVZ9zx19K6k"
   },
   "source": [
    "### 5.Split the in Feature (X) and Label(Y)"
   ]
  },
  {
   "cell_type": "code",
   "execution_count": 165,
   "metadata": {
    "id": "I6quWQ1T9rtH"
   },
   "outputs": [],
   "source": [
    "# Split data into features and target\n",
    "X = df[['Open', 'High', 'Low', 'Price_Change', 'High_Low_Range']]\n",
    "y = df['Close']"
   ]
  },
  {
   "cell_type": "markdown",
   "metadata": {
    "id": "rMDnDkt2B6du"
   },
   "source": [
    "### 6. Data Scaling"
   ]
  },
  {
   "cell_type": "code",
   "execution_count": 167,
   "metadata": {
    "id": "dL9LWpySC6x_"
   },
   "outputs": [],
   "source": [
    "# Scaling\n",
    "scaler = MinMaxScaler()\n",
    "X_scaled = scaler.fit_transform(X)"
   ]
  },
  {
   "cell_type": "markdown",
   "metadata": {
    "id": "yiiVWRdJDDil"
   },
   "source": [
    "##### Which method have you used to scale you data and why?\n",
    "Minmax Scaler"
   ]
  },
  {
   "cell_type": "markdown",
   "metadata": {
    "id": "BhH2vgX9EjGr"
   },
   "source": [
    "### 8. Data Splitting"
   ]
  },
  {
   "cell_type": "code",
   "execution_count": 171,
   "metadata": {
    "id": "0CTyd2UwEyNM"
   },
   "outputs": [],
   "source": [
    "# Data Splitting\n",
    "X_train, X_test, y_train, y_test = train_test_split(X_scaled, y, test_size=0.3, random_state=42)"
   ]
  },
  {
   "cell_type": "markdown",
   "metadata": {
    "id": "qjKvONjwE8ra"
   },
   "source": [
    "##### What data splitting ratio have you used and why?"
   ]
  },
  {
   "cell_type": "markdown",
   "metadata": {
    "id": "Y2lJ8cobFDb_"
   },
   "source": [
    "Answer 30-70"
   ]
  },
  {
   "cell_type": "markdown",
   "metadata": {
    "id": "VfCC591jGiD4"
   },
   "source": [
    "## ***7. ML Model Implementation***"
   ]
  },
  {
   "cell_type": "markdown",
   "metadata": {
    "id": "OB4l2ZhMeS1U"
   },
   "source": [
    "### ML Model - 1"
   ]
  },
  {
   "cell_type": "code",
   "execution_count": 173,
   "metadata": {
    "id": "7ebyywQieS1U"
   },
   "outputs": [],
   "source": [
    " # ML Model - 1: Random Forest\n",
    "rf = RandomForestRegressor()\n",
    "rf.fit(X_train, y_train)\n",
    "y_pred_rf = rf.predict(X_test)"
   ]
  },
  {
   "cell_type": "markdown",
   "metadata": {
    "id": "ArJBuiUVfxKd"
   },
   "source": [
    "#### 1. Explain the ML Model used and it's performance using Evaluation metric Score Chart."
   ]
  },
  {
   "cell_type": "code",
   "execution_count": 175,
   "metadata": {
    "id": "rqD5ZohzfxKe"
   },
   "outputs": [
    {
     "name": "stdout",
     "output_type": "stream",
     "text": [
      "Random Forest - RMSE: 10.416975131468009\n",
      "Random Forest - R²: 0.9840024777326098\n"
     ]
    },
    {
     "name": "stderr",
     "output_type": "stream",
     "text": [
      "C:\\Users\\pdtha\\anaconda3\\Lib\\site-packages\\sklearn\\metrics\\_regression.py:483: FutureWarning: 'squared' is deprecated in version 1.4 and will be removed in 1.6. To calculate the root mean squared error, use the function'root_mean_squared_error'.\n",
      "  warnings.warn(\n"
     ]
    }
   ],
   "source": [
    "# Performance evaluation\n",
    "print(\"Random Forest - RMSE:\", mean_squared_error(y_test, y_pred_rf, squared=False))\n",
    "print(\"Random Forest - R²:\", r2_score(y_test, y_pred_rf))\n"
   ]
  },
  {
   "cell_type": "markdown",
   "metadata": {},
   "source": [
    "## 2. Cross- Validation & Hyperparameter Tuning"
   ]
  },
  {
   "cell_type": "code",
   "execution_count": 177,
   "metadata": {
    "id": "Dy61ujd6fxKe"
   },
   "outputs": [],
   "source": [
    "from sklearn.model_selection import GridSearchCV\n",
    "\n",
    "# Hyperparameter tuning for Random Forest\n",
    "rf_param_grid = {\n",
    "    'n_estimators': [50, 100, 200],\n",
    "    'max_depth': [None, 10, 20],\n",
    "    'min_samples_split': [2, 5, 10]\n",
    "}\n",
    "\n",
    "rf_grid_search = GridSearchCV(RandomForestRegressor(), rf_param_grid, cv=5, scoring='neg_mean_squared_error', n_jobs=-1)\n",
    "rf_grid_search.fit(X_train, y_train)\n",
    "\n",
    "rf_best_model = rf_grid_search.best_estimator_\n",
    "y_pred_rf_best = rf_best_model.predict(X_test)"
   ]
  },
  {
   "cell_type": "code",
   "execution_count": 182,
   "metadata": {},
   "outputs": [
    {
     "name": "stdout",
     "output_type": "stream",
     "text": [
      "Random Forest - RMSE: 10.257456665643145\n",
      "Random Forest - R²: 0.9844886766811209\n"
     ]
    },
    {
     "name": "stderr",
     "output_type": "stream",
     "text": [
      "C:\\Users\\pdtha\\anaconda3\\Lib\\site-packages\\sklearn\\metrics\\_regression.py:483: FutureWarning: 'squared' is deprecated in version 1.4 and will be removed in 1.6. To calculate the root mean squared error, use the function'root_mean_squared_error'.\n",
      "  warnings.warn(\n"
     ]
    }
   ],
   "source": [
    "# Performance evaluation after hyperparameter tuning\n",
    "print(\"Random Forest - RMSE:\", mean_squared_error(y_test, y_pred_rf_best, squared=False))\n",
    "print(\"Random Forest - R²:\", r2_score(y_test, y_pred_rf_best))"
   ]
  },
  {
   "cell_type": "markdown",
   "metadata": {
    "id": "PiV4Ypx8fxKe"
   },
   "source": [
    "##### Which hyperparameter optimization technique have you used and why?"
   ]
  },
  {
   "cell_type": "markdown",
   "metadata": {
    "id": "negyGRa7fxKf"
   },
   "source": [
    "GridSearchCV"
   ]
  },
  {
   "cell_type": "markdown",
   "metadata": {
    "id": "dJ2tPlVmpsJ0"
   },
   "source": [
    "### ML Model - 2  Gradient Boosting"
   ]
  },
  {
   "cell_type": "markdown",
   "metadata": {
    "id": "JWYfwnehpsJ1"
   },
   "source": [
    "#### 1. Explain the ML Model used and it's performance using Evaluation metric Score Chart."
   ]
  },
  {
   "cell_type": "code",
   "execution_count": 186,
   "metadata": {
    "id": "yEl-hgQWpsJ1"
   },
   "outputs": [
    {
     "name": "stdout",
     "output_type": "stream",
     "text": [
      "Gradient Boosting - RMSE: 8.747400037993474\n",
      "Gradient Boosting - R²: 0.9887195235013424\n"
     ]
    },
    {
     "name": "stderr",
     "output_type": "stream",
     "text": [
      "C:\\Users\\pdtha\\anaconda3\\Lib\\site-packages\\sklearn\\metrics\\_regression.py:483: FutureWarning: 'squared' is deprecated in version 1.4 and will be removed in 1.6. To calculate the root mean squared error, use the function'root_mean_squared_error'.\n",
      "  warnings.warn(\n"
     ]
    }
   ],
   "source": [
    "# ML Model - 2: Gradient Boosting\n",
    "gb = GradientBoostingRegressor()\n",
    "gb.fit(X_train, y_train)\n",
    "y_pred_gb = gb.predict(X_test)\n",
    "\n",
    "# Performance evaluation\n",
    "print(\"Gradient Boosting - RMSE:\", mean_squared_error(y_test, y_pred_gb, squared=False))\n",
    "print(\"Gradient Boosting - R²:\", r2_score(y_test, y_pred_gb))"
   ]
  },
  {
   "cell_type": "markdown",
   "metadata": {
    "id": "-jK_YjpMpsJ2"
   },
   "source": [
    "#### 2. Cross- Validation & Hyperparameter Tuning"
   ]
  },
  {
   "cell_type": "code",
   "execution_count": 189,
   "metadata": {
    "id": "Dn0EOfS6psJ2"
   },
   "outputs": [],
   "source": [
    "# Hyperparameter tuning for Gradient Boosting\n",
    "gb_param_grid = {\n",
    "    'n_estimators': [50, 100, 200],\n",
    "    'learning_rate': [0.01, 0.1, 0.2],\n",
    "    'max_depth': [3, 5, 7]\n",
    "}\n",
    "\n",
    "gb_grid_search = GridSearchCV(GradientBoostingRegressor(), gb_param_grid, cv=5, scoring='neg_mean_squared_error', n_jobs=-1)\n",
    "gb_grid_search.fit(X_train, y_train)\n",
    "\n",
    "gb_best_model = gb_grid_search.best_estimator_\n",
    "y_pred_gb_best = gb_best_model.predict(X_test)"
   ]
  },
  {
   "cell_type": "code",
   "execution_count": 191,
   "metadata": {},
   "outputs": [
    {
     "name": "stdout",
     "output_type": "stream",
     "text": [
      "Gradient Boosting - RMSE: 8.944847769400665\n",
      "Gradient Boosting - R²: 0.9882045265826961\n"
     ]
    },
    {
     "name": "stderr",
     "output_type": "stream",
     "text": [
      "C:\\Users\\pdtha\\anaconda3\\Lib\\site-packages\\sklearn\\metrics\\_regression.py:483: FutureWarning: 'squared' is deprecated in version 1.4 and will be removed in 1.6. To calculate the root mean squared error, use the function'root_mean_squared_error'.\n",
      "  warnings.warn(\n"
     ]
    }
   ],
   "source": [
    "# Performance evaluation\n",
    "print(\"Gradient Boosting - RMSE:\", mean_squared_error(y_test, y_pred_gb_best, squared=False))\n",
    "print(\"Gradient Boosting - R²:\", r2_score(y_test, y_pred_gb_best))"
   ]
  },
  {
   "cell_type": "markdown",
   "metadata": {
    "id": "HAih1iBOpsJ2"
   },
   "source": [
    "##### Which hyperparameter optimization technique have you used and why?"
   ]
  },
  {
   "cell_type": "markdown",
   "metadata": {
    "id": "9kBgjYcdpsJ2"
   },
   "source": [
    "GridSearchCV"
   ]
  },
  {
   "cell_type": "markdown",
   "metadata": {
    "id": "Fze-IPXLpx6K"
   },
   "source": [
    "### ML Model - 3 XGBoost"
   ]
  },
  {
   "cell_type": "code",
   "execution_count": 200,
   "metadata": {
    "id": "FFrSXAtrpx6M"
   },
   "outputs": [
    {
     "name": "stdout",
     "output_type": "stream",
     "text": [
      "Collecting xgboost\n",
      "  Downloading xgboost-2.1.1-py3-none-win_amd64.whl.metadata (2.1 kB)\n",
      "Requirement already satisfied: numpy in c:\\users\\pdtha\\anaconda3\\lib\\site-packages (from xgboost) (1.26.4)\n",
      "Requirement already satisfied: scipy in c:\\users\\pdtha\\anaconda3\\lib\\site-packages (from xgboost) (1.13.1)\n",
      "Downloading xgboost-2.1.1-py3-none-win_amd64.whl (124.9 MB)\n",
      "   ---------------------------------------- 0.0/124.9 MB ? eta -:--:--\n",
      "   ---------------------------------------- 0.0/124.9 MB 640.0 kB/s eta 0:03:16\n",
      "   ---------------------------------------- 0.2/124.9 MB 1.7 MB/s eta 0:01:12\n",
      "   ---------------------------------------- 0.8/124.9 MB 5.8 MB/s eta 0:00:22\n",
      "   ---------------------------------------- 1.3/124.9 MB 7.7 MB/s eta 0:00:16\n",
      "    --------------------------------------- 1.9/124.9 MB 9.3 MB/s eta 0:00:14\n",
      "    --------------------------------------- 2.0/124.9 MB 8.5 MB/s eta 0:00:15\n",
      "    --------------------------------------- 2.0/124.9 MB 8.5 MB/s eta 0:00:15\n",
      "    --------------------------------------- 2.0/124.9 MB 5.6 MB/s eta 0:00:23\n",
      "   - -------------------------------------- 3.1/124.9 MB 7.7 MB/s eta 0:00:16\n",
      "   - -------------------------------------- 3.6/124.9 MB 7.6 MB/s eta 0:00:17\n",
      "   - -------------------------------------- 3.6/124.9 MB 7.4 MB/s eta 0:00:17\n",
      "   - -------------------------------------- 3.7/124.9 MB 6.6 MB/s eta 0:00:19\n",
      "   - -------------------------------------- 3.7/124.9 MB 6.6 MB/s eta 0:00:19\n",
      "   - -------------------------------------- 4.5/124.9 MB 7.1 MB/s eta 0:00:17\n",
      "   - -------------------------------------- 4.5/124.9 MB 6.7 MB/s eta 0:00:18\n",
      "   - -------------------------------------- 5.2/124.9 MB 7.1 MB/s eta 0:00:17\n",
      "   - -------------------------------------- 5.5/124.9 MB 7.0 MB/s eta 0:00:18\n",
      "   - -------------------------------------- 5.7/124.9 MB 6.9 MB/s eta 0:00:18\n",
      "   - -------------------------------------- 6.0/124.9 MB 6.9 MB/s eta 0:00:18\n",
      "   -- ------------------------------------- 6.3/124.9 MB 6.8 MB/s eta 0:00:18\n",
      "   -- ------------------------------------- 6.6/124.9 MB 6.8 MB/s eta 0:00:18\n",
      "   -- ------------------------------------- 6.9/124.9 MB 6.7 MB/s eta 0:00:18\n",
      "   -- ------------------------------------- 7.1/124.9 MB 6.7 MB/s eta 0:00:18\n",
      "   -- ------------------------------------- 7.4/124.9 MB 6.7 MB/s eta 0:00:18\n",
      "   -- ------------------------------------- 7.6/124.9 MB 6.6 MB/s eta 0:00:18\n",
      "   -- ------------------------------------- 7.9/124.9 MB 6.6 MB/s eta 0:00:18\n",
      "   -- ------------------------------------- 8.2/124.9 MB 6.5 MB/s eta 0:00:18\n",
      "   -- ------------------------------------- 8.5/124.9 MB 6.5 MB/s eta 0:00:19\n",
      "   -- ------------------------------------- 8.7/124.9 MB 6.5 MB/s eta 0:00:18\n",
      "   -- ------------------------------------- 9.1/124.9 MB 6.5 MB/s eta 0:00:18\n",
      "   -- ------------------------------------- 9.3/124.9 MB 6.5 MB/s eta 0:00:18\n",
      "   --- ------------------------------------ 9.6/124.9 MB 6.5 MB/s eta 0:00:18\n",
      "   --- ------------------------------------ 9.9/124.9 MB 6.5 MB/s eta 0:00:18\n",
      "   --- ------------------------------------ 10.1/124.9 MB 6.4 MB/s eta 0:00:18\n",
      "   --- ------------------------------------ 10.5/124.9 MB 6.6 MB/s eta 0:00:18\n",
      "   --- ------------------------------------ 10.7/124.9 MB 6.5 MB/s eta 0:00:18\n",
      "   --- ------------------------------------ 11.0/124.9 MB 6.4 MB/s eta 0:00:18\n",
      "   --- ------------------------------------ 11.2/124.9 MB 6.4 MB/s eta 0:00:18\n",
      "   --- ------------------------------------ 11.6/124.9 MB 6.2 MB/s eta 0:00:19\n",
      "   --- ------------------------------------ 11.8/124.9 MB 6.1 MB/s eta 0:00:19\n",
      "   --- ------------------------------------ 12.2/124.9 MB 6.1 MB/s eta 0:00:19\n",
      "   --- ------------------------------------ 12.4/124.9 MB 6.5 MB/s eta 0:00:18\n",
      "   ---- ----------------------------------- 12.8/124.9 MB 6.3 MB/s eta 0:00:18\n",
      "   ---- ----------------------------------- 13.0/124.9 MB 6.2 MB/s eta 0:00:19\n",
      "   ---- ----------------------------------- 13.3/124.9 MB 6.0 MB/s eta 0:00:19\n",
      "   ---- ----------------------------------- 13.6/124.9 MB 6.0 MB/s eta 0:00:19\n",
      "   ---- ----------------------------------- 13.9/124.9 MB 6.2 MB/s eta 0:00:18\n",
      "   ---- ----------------------------------- 14.3/124.9 MB 6.2 MB/s eta 0:00:18\n",
      "   ---- ----------------------------------- 14.6/124.9 MB 6.1 MB/s eta 0:00:19\n",
      "   ---- ----------------------------------- 14.9/124.9 MB 6.2 MB/s eta 0:00:18\n",
      "   ---- ----------------------------------- 15.0/124.9 MB 6.1 MB/s eta 0:00:19\n",
      "   ---- ----------------------------------- 15.5/124.9 MB 6.1 MB/s eta 0:00:18\n",
      "   ----- ---------------------------------- 15.7/124.9 MB 6.0 MB/s eta 0:00:19\n",
      "   ----- ---------------------------------- 15.9/124.9 MB 5.9 MB/s eta 0:00:19\n",
      "   ----- ---------------------------------- 16.3/124.9 MB 6.1 MB/s eta 0:00:18\n",
      "   ----- ---------------------------------- 16.7/124.9 MB 6.1 MB/s eta 0:00:18\n",
      "   ----- ---------------------------------- 16.9/124.9 MB 6.1 MB/s eta 0:00:18\n",
      "   ----- ---------------------------------- 17.2/124.9 MB 6.1 MB/s eta 0:00:18\n",
      "   ----- ---------------------------------- 17.4/124.9 MB 6.1 MB/s eta 0:00:18\n",
      "   ----- ---------------------------------- 17.8/124.9 MB 6.0 MB/s eta 0:00:18\n",
      "   ----- ---------------------------------- 18.1/124.9 MB 6.1 MB/s eta 0:00:18\n",
      "   ----- ---------------------------------- 18.4/124.9 MB 6.1 MB/s eta 0:00:18\n",
      "   ----- ---------------------------------- 18.5/124.9 MB 6.1 MB/s eta 0:00:18\n",
      "   ------ --------------------------------- 18.9/124.9 MB 6.2 MB/s eta 0:00:18\n",
      "   ------ --------------------------------- 19.1/124.9 MB 6.1 MB/s eta 0:00:18\n",
      "   ------ --------------------------------- 19.4/124.9 MB 6.1 MB/s eta 0:00:18\n",
      "   ------ --------------------------------- 19.7/124.9 MB 6.1 MB/s eta 0:00:18\n",
      "   ------ --------------------------------- 19.9/124.9 MB 6.1 MB/s eta 0:00:18\n",
      "   ------ --------------------------------- 20.2/124.9 MB 6.0 MB/s eta 0:00:18\n",
      "   ------ --------------------------------- 20.5/124.9 MB 6.1 MB/s eta 0:00:18\n",
      "   ------ --------------------------------- 20.8/124.9 MB 6.1 MB/s eta 0:00:18\n",
      "   ------ --------------------------------- 21.0/124.9 MB 6.0 MB/s eta 0:00:18\n",
      "   ------ --------------------------------- 21.4/124.9 MB 6.1 MB/s eta 0:00:18\n",
      "   ------ --------------------------------- 21.6/124.9 MB 6.1 MB/s eta 0:00:18\n",
      "   ------ --------------------------------- 21.9/124.9 MB 6.1 MB/s eta 0:00:18\n",
      "   ------- -------------------------------- 22.1/124.9 MB 6.1 MB/s eta 0:00:17\n",
      "   ------- -------------------------------- 22.4/124.9 MB 6.1 MB/s eta 0:00:17\n",
      "   ------- -------------------------------- 22.8/124.9 MB 6.1 MB/s eta 0:00:17\n",
      "   ------- -------------------------------- 23.1/124.9 MB 6.1 MB/s eta 0:00:17\n",
      "   ------- -------------------------------- 23.3/124.9 MB 6.0 MB/s eta 0:00:17\n",
      "   ------- -------------------------------- 23.6/124.9 MB 6.1 MB/s eta 0:00:17\n",
      "   ------- -------------------------------- 23.9/124.9 MB 6.0 MB/s eta 0:00:17\n",
      "   ------- -------------------------------- 24.1/124.9 MB 6.0 MB/s eta 0:00:17\n",
      "   ------- -------------------------------- 24.6/124.9 MB 6.0 MB/s eta 0:00:17\n",
      "   ------- -------------------------------- 24.9/124.9 MB 6.0 MB/s eta 0:00:17\n",
      "   -------- ------------------------------- 25.2/124.9 MB 6.1 MB/s eta 0:00:17\n",
      "   -------- ------------------------------- 25.5/124.9 MB 6.0 MB/s eta 0:00:17\n",
      "   -------- ------------------------------- 25.7/124.9 MB 6.1 MB/s eta 0:00:17\n",
      "   -------- ------------------------------- 26.0/124.9 MB 6.1 MB/s eta 0:00:17\n",
      "   -------- ------------------------------- 26.0/124.9 MB 6.1 MB/s eta 0:00:17\n",
      "   -------- ------------------------------- 26.6/124.9 MB 6.0 MB/s eta 0:00:17\n",
      "   -------- ------------------------------- 26.7/124.9 MB 6.1 MB/s eta 0:00:17\n",
      "   -------- ------------------------------- 27.3/124.9 MB 6.1 MB/s eta 0:00:17\n",
      "   -------- ------------------------------- 27.4/124.9 MB 6.1 MB/s eta 0:00:17\n",
      "   -------- ------------------------------- 27.8/124.9 MB 6.0 MB/s eta 0:00:17\n",
      "   -------- ------------------------------- 28.1/124.9 MB 6.1 MB/s eta 0:00:16\n",
      "   --------- ------------------------------ 28.4/124.9 MB 6.0 MB/s eta 0:00:17\n",
      "   --------- ------------------------------ 28.7/124.9 MB 6.1 MB/s eta 0:00:16\n",
      "   --------- ------------------------------ 28.9/124.9 MB 6.1 MB/s eta 0:00:16\n",
      "   --------- ------------------------------ 29.2/124.9 MB 6.1 MB/s eta 0:00:16\n",
      "   --------- ------------------------------ 29.4/124.9 MB 6.2 MB/s eta 0:00:16\n",
      "   --------- ------------------------------ 29.8/124.9 MB 6.1 MB/s eta 0:00:16\n",
      "   --------- ------------------------------ 30.0/124.9 MB 6.1 MB/s eta 0:00:16\n",
      "   --------- ------------------------------ 30.3/124.9 MB 6.1 MB/s eta 0:00:16\n",
      "   --------- ------------------------------ 30.5/124.9 MB 6.0 MB/s eta 0:00:16\n",
      "   --------- ------------------------------ 30.9/124.9 MB 6.1 MB/s eta 0:00:16\n",
      "   --------- ------------------------------ 31.2/124.9 MB 6.1 MB/s eta 0:00:16\n",
      "   ---------- ----------------------------- 31.4/124.9 MB 6.1 MB/s eta 0:00:16\n",
      "   ---------- ----------------------------- 31.7/124.9 MB 6.1 MB/s eta 0:00:16\n",
      "   ---------- ----------------------------- 32.0/124.9 MB 6.0 MB/s eta 0:00:16\n",
      "   ---------- ----------------------------- 32.3/124.9 MB 6.1 MB/s eta 0:00:16\n",
      "   ---------- ----------------------------- 32.5/124.9 MB 6.1 MB/s eta 0:00:16\n",
      "   ---------- ----------------------------- 32.8/124.9 MB 6.1 MB/s eta 0:00:16\n",
      "   ---------- ----------------------------- 33.1/124.9 MB 6.1 MB/s eta 0:00:16\n",
      "   ---------- ----------------------------- 33.4/124.9 MB 6.0 MB/s eta 0:00:16\n",
      "   ---------- ----------------------------- 33.6/124.9 MB 6.1 MB/s eta 0:00:16\n",
      "   ---------- ----------------------------- 33.9/124.9 MB 6.1 MB/s eta 0:00:15\n",
      "   ---------- ----------------------------- 34.1/124.9 MB 6.1 MB/s eta 0:00:15\n",
      "   ----------- ---------------------------- 34.5/124.9 MB 6.0 MB/s eta 0:00:16\n",
      "   ----------- ---------------------------- 34.9/124.9 MB 6.0 MB/s eta 0:00:15\n",
      "   ----------- ---------------------------- 35.2/124.9 MB 6.0 MB/s eta 0:00:15\n",
      "   ----------- ---------------------------- 35.4/124.9 MB 6.0 MB/s eta 0:00:16\n",
      "   ----------- ---------------------------- 35.8/124.9 MB 6.1 MB/s eta 0:00:15\n",
      "   ----------- ---------------------------- 35.8/124.9 MB 5.8 MB/s eta 0:00:16\n",
      "   ----------- ---------------------------- 36.4/124.9 MB 6.2 MB/s eta 0:00:15\n",
      "   ----------- ---------------------------- 36.6/124.9 MB 6.0 MB/s eta 0:00:15\n",
      "   ----------- ---------------------------- 37.0/124.9 MB 6.2 MB/s eta 0:00:15\n",
      "   ----------- ---------------------------- 37.3/124.9 MB 6.1 MB/s eta 0:00:15\n",
      "   ----------- ---------------------------- 37.3/124.9 MB 6.0 MB/s eta 0:00:15\n",
      "   ------------ --------------------------- 37.9/124.9 MB 6.1 MB/s eta 0:00:15\n",
      "   ------------ --------------------------- 38.1/124.9 MB 6.0 MB/s eta 0:00:15\n",
      "   ------------ --------------------------- 38.5/124.9 MB 6.1 MB/s eta 0:00:15\n",
      "   ------------ --------------------------- 38.7/124.9 MB 6.1 MB/s eta 0:00:15\n",
      "   ------------ --------------------------- 39.0/124.9 MB 6.1 MB/s eta 0:00:15\n",
      "   ------------ --------------------------- 39.3/124.9 MB 6.0 MB/s eta 0:00:15\n",
      "   ------------ --------------------------- 39.6/124.9 MB 6.1 MB/s eta 0:00:14\n",
      "   ------------ --------------------------- 39.8/124.9 MB 6.1 MB/s eta 0:00:15\n",
      "   ------------ --------------------------- 40.1/124.9 MB 6.1 MB/s eta 0:00:14\n",
      "   ------------ --------------------------- 40.4/124.9 MB 6.1 MB/s eta 0:00:14\n",
      "   ------------- -------------------------- 40.6/124.9 MB 6.1 MB/s eta 0:00:14\n",
      "   ------------- -------------------------- 41.0/124.9 MB 6.1 MB/s eta 0:00:14\n",
      "   ------------- -------------------------- 41.2/124.9 MB 6.1 MB/s eta 0:00:14\n",
      "   ------------- -------------------------- 41.5/124.9 MB 6.1 MB/s eta 0:00:14\n",
      "   ------------- -------------------------- 41.8/124.9 MB 6.1 MB/s eta 0:00:14\n",
      "   ------------- -------------------------- 42.0/124.9 MB 6.1 MB/s eta 0:00:14\n",
      "   ------------- -------------------------- 42.4/124.9 MB 6.1 MB/s eta 0:00:14\n",
      "   ------------- -------------------------- 42.7/124.9 MB 6.1 MB/s eta 0:00:14\n",
      "   ------------- -------------------------- 42.9/124.9 MB 6.2 MB/s eta 0:00:14\n",
      "   ------------- -------------------------- 43.2/124.9 MB 6.1 MB/s eta 0:00:14\n",
      "   ------------- -------------------------- 43.5/124.9 MB 6.1 MB/s eta 0:00:14\n",
      "   ------------- -------------------------- 43.7/124.9 MB 6.1 MB/s eta 0:00:14\n",
      "   -------------- ------------------------- 44.1/124.9 MB 6.1 MB/s eta 0:00:14\n",
      "   -------------- ------------------------- 44.3/124.9 MB 6.1 MB/s eta 0:00:14\n",
      "   -------------- ------------------------- 44.6/124.9 MB 6.1 MB/s eta 0:00:14\n",
      "   -------------- ------------------------- 44.8/124.9 MB 6.1 MB/s eta 0:00:14\n",
      "   -------------- ------------------------- 45.1/124.9 MB 6.0 MB/s eta 0:00:14\n",
      "   -------------- ------------------------- 45.4/124.9 MB 6.0 MB/s eta 0:00:14\n",
      "   -------------- ------------------------- 45.8/124.9 MB 6.1 MB/s eta 0:00:14\n",
      "   -------------- ------------------------- 46.1/124.9 MB 6.2 MB/s eta 0:00:13\n",
      "   -------------- ------------------------- 46.3/124.9 MB 6.1 MB/s eta 0:00:13\n",
      "   -------------- ------------------------- 46.6/124.9 MB 6.0 MB/s eta 0:00:14\n",
      "   --------------- ------------------------ 46.8/124.9 MB 6.1 MB/s eta 0:00:13\n",
      "   --------------- ------------------------ 47.3/124.9 MB 6.0 MB/s eta 0:00:13\n",
      "   --------------- ------------------------ 47.6/124.9 MB 6.1 MB/s eta 0:00:13\n",
      "   --------------- ------------------------ 47.9/124.9 MB 6.1 MB/s eta 0:00:13\n",
      "   --------------- ------------------------ 48.1/124.9 MB 6.0 MB/s eta 0:00:13\n",
      "   --------------- ------------------------ 48.1/124.9 MB 6.0 MB/s eta 0:00:13\n",
      "   --------------- ------------------------ 48.4/124.9 MB 6.0 MB/s eta 0:00:13\n",
      "   --------------- ------------------------ 48.7/124.9 MB 5.8 MB/s eta 0:00:14\n",
      "   --------------- ------------------------ 48.8/124.9 MB 5.7 MB/s eta 0:00:14\n",
      "   --------------- ------------------------ 49.0/124.9 MB 5.6 MB/s eta 0:00:14\n",
      "   --------------- ------------------------ 49.2/124.9 MB 5.6 MB/s eta 0:00:14\n",
      "   --------------- ------------------------ 49.2/124.9 MB 5.5 MB/s eta 0:00:14\n",
      "   --------------- ------------------------ 49.6/124.9 MB 5.5 MB/s eta 0:00:14\n",
      "   --------------- ------------------------ 49.9/124.9 MB 5.6 MB/s eta 0:00:14\n",
      "   ---------------- ----------------------- 50.2/124.9 MB 5.6 MB/s eta 0:00:14\n",
      "   ---------------- ----------------------- 50.4/124.9 MB 5.6 MB/s eta 0:00:14\n",
      "   ---------------- ----------------------- 50.8/124.9 MB 5.6 MB/s eta 0:00:14\n",
      "   ---------------- ----------------------- 51.0/124.9 MB 5.6 MB/s eta 0:00:14\n",
      "   ---------------- ----------------------- 51.3/124.9 MB 5.6 MB/s eta 0:00:14\n",
      "   ---------------- ----------------------- 51.7/124.9 MB 5.7 MB/s eta 0:00:13\n",
      "   ---------------- ----------------------- 51.9/124.9 MB 5.6 MB/s eta 0:00:13\n",
      "   ---------------- ----------------------- 52.2/124.9 MB 5.6 MB/s eta 0:00:13\n",
      "   ---------------- ----------------------- 52.5/124.9 MB 5.5 MB/s eta 0:00:14\n",
      "   ---------------- ----------------------- 52.7/124.9 MB 5.6 MB/s eta 0:00:13\n",
      "   ---------------- ----------------------- 53.0/124.9 MB 5.6 MB/s eta 0:00:13\n",
      "   ----------------- ---------------------- 53.2/124.9 MB 5.6 MB/s eta 0:00:13\n",
      "   ----------------- ---------------------- 53.5/124.9 MB 5.6 MB/s eta 0:00:13\n",
      "   ----------------- ---------------------- 53.9/124.9 MB 5.6 MB/s eta 0:00:13\n",
      "   ----------------- ---------------------- 54.1/124.9 MB 5.6 MB/s eta 0:00:13\n",
      "   ----------------- ---------------------- 54.4/124.9 MB 5.6 MB/s eta 0:00:13\n",
      "   ----------------- ---------------------- 54.7/124.9 MB 5.6 MB/s eta 0:00:13\n",
      "   ----------------- ---------------------- 55.0/124.9 MB 5.6 MB/s eta 0:00:13\n",
      "   ----------------- ---------------------- 55.2/124.9 MB 5.6 MB/s eta 0:00:13\n",
      "   ----------------- ---------------------- 55.4/124.9 MB 5.6 MB/s eta 0:00:13\n",
      "   ----------------- ---------------------- 55.8/124.9 MB 5.6 MB/s eta 0:00:13\n",
      "   ----------------- ---------------------- 55.9/124.9 MB 5.5 MB/s eta 0:00:13\n",
      "   ------------------ --------------------- 56.4/124.9 MB 5.6 MB/s eta 0:00:13\n",
      "   ------------------ --------------------- 56.6/124.9 MB 5.6 MB/s eta 0:00:13\n",
      "   ------------------ --------------------- 57.0/124.9 MB 5.5 MB/s eta 0:00:13\n",
      "   ------------------ --------------------- 57.3/124.9 MB 5.6 MB/s eta 0:00:13\n",
      "   ------------------ --------------------- 57.4/124.9 MB 5.5 MB/s eta 0:00:13\n",
      "   ------------------ --------------------- 57.8/124.9 MB 5.6 MB/s eta 0:00:12\n",
      "   ------------------ --------------------- 58.2/124.9 MB 5.6 MB/s eta 0:00:12\n",
      "   ------------------ --------------------- 58.4/124.9 MB 5.7 MB/s eta 0:00:12\n",
      "   ------------------ --------------------- 58.8/124.9 MB 5.7 MB/s eta 0:00:12\n",
      "   ------------------ --------------------- 58.8/124.9 MB 5.7 MB/s eta 0:00:12\n",
      "   ------------------- -------------------- 59.4/124.9 MB 5.9 MB/s eta 0:00:12\n",
      "   ------------------- -------------------- 59.5/124.9 MB 6.1 MB/s eta 0:00:11\n",
      "   ------------------- -------------------- 59.9/124.9 MB 6.0 MB/s eta 0:00:11\n",
      "   ------------------- -------------------- 60.3/124.9 MB 6.0 MB/s eta 0:00:11\n",
      "   ------------------- -------------------- 60.5/124.9 MB 6.0 MB/s eta 0:00:11\n",
      "   ------------------- -------------------- 60.7/124.9 MB 6.1 MB/s eta 0:00:11\n",
      "   ------------------- -------------------- 61.0/124.9 MB 6.0 MB/s eta 0:00:11\n",
      "   ------------------- -------------------- 61.0/124.9 MB 6.0 MB/s eta 0:00:11\n",
      "   ------------------- -------------------- 61.6/124.9 MB 6.0 MB/s eta 0:00:11\n",
      "   ------------------- -------------------- 61.9/124.9 MB 6.0 MB/s eta 0:00:11\n",
      "   ------------------- -------------------- 62.0/124.9 MB 6.0 MB/s eta 0:00:11\n",
      "   ------------------- -------------------- 62.3/124.9 MB 6.0 MB/s eta 0:00:11\n",
      "   -------------------- ------------------- 62.5/124.9 MB 6.0 MB/s eta 0:00:11\n",
      "   -------------------- ------------------- 62.8/124.9 MB 5.9 MB/s eta 0:00:11\n",
      "   -------------------- ------------------- 63.1/124.9 MB 5.8 MB/s eta 0:00:11\n",
      "   -------------------- ------------------- 63.1/124.9 MB 5.8 MB/s eta 0:00:11\n",
      "   -------------------- ------------------- 63.1/124.9 MB 5.8 MB/s eta 0:00:11\n",
      "   -------------------- ------------------- 63.6/124.9 MB 5.6 MB/s eta 0:00:11\n",
      "   -------------------- ------------------- 63.8/124.9 MB 5.6 MB/s eta 0:00:11\n",
      "   -------------------- ------------------- 63.9/124.9 MB 5.7 MB/s eta 0:00:11\n",
      "   -------------------- ------------------- 64.3/124.9 MB 5.6 MB/s eta 0:00:11\n",
      "   -------------------- ------------------- 64.5/124.9 MB 5.6 MB/s eta 0:00:11\n",
      "   -------------------- ------------------- 64.7/124.9 MB 5.6 MB/s eta 0:00:11\n",
      "   -------------------- ------------------- 64.8/124.9 MB 5.5 MB/s eta 0:00:11\n",
      "   -------------------- ------------------- 64.8/124.9 MB 5.4 MB/s eta 0:00:12\n",
      "   -------------------- ------------------- 64.8/124.9 MB 5.2 MB/s eta 0:00:12\n",
      "   -------------------- ------------------- 64.8/124.9 MB 5.1 MB/s eta 0:00:12\n",
      "   -------------------- ------------------- 64.9/124.9 MB 5.0 MB/s eta 0:00:12\n",
      "   -------------------- ------------------- 65.0/124.9 MB 5.0 MB/s eta 0:00:13\n",
      "   -------------------- ------------------- 65.2/124.9 MB 4.9 MB/s eta 0:00:13\n",
      "   -------------------- ------------------- 65.5/124.9 MB 4.9 MB/s eta 0:00:13\n",
      "   --------------------- ------------------ 65.7/124.9 MB 4.9 MB/s eta 0:00:13\n",
      "   --------------------- ------------------ 65.9/124.9 MB 4.9 MB/s eta 0:00:13\n",
      "   --------------------- ------------------ 66.1/124.9 MB 4.8 MB/s eta 0:00:13\n",
      "   --------------------- ------------------ 66.3/124.9 MB 4.8 MB/s eta 0:00:13\n",
      "   --------------------- ------------------ 66.5/124.9 MB 4.7 MB/s eta 0:00:13\n",
      "   --------------------- ------------------ 66.7/124.9 MB 4.7 MB/s eta 0:00:13\n",
      "   --------------------- ------------------ 67.0/124.9 MB 4.7 MB/s eta 0:00:13\n",
      "   --------------------- ------------------ 67.2/124.9 MB 4.7 MB/s eta 0:00:13\n",
      "   --------------------- ------------------ 67.2/124.9 MB 4.7 MB/s eta 0:00:13\n",
      "   --------------------- ------------------ 67.6/124.9 MB 4.6 MB/s eta 0:00:13\n",
      "   --------------------- ------------------ 67.8/124.9 MB 4.6 MB/s eta 0:00:13\n",
      "   --------------------- ------------------ 68.0/124.9 MB 4.5 MB/s eta 0:00:13\n",
      "   --------------------- ------------------ 68.2/124.9 MB 4.5 MB/s eta 0:00:13\n",
      "   --------------------- ------------------ 68.4/124.9 MB 4.5 MB/s eta 0:00:13\n",
      "   --------------------- ------------------ 68.6/124.9 MB 4.5 MB/s eta 0:00:13\n",
      "   ---------------------- ----------------- 68.8/124.9 MB 4.4 MB/s eta 0:00:13\n",
      "   ---------------------- ----------------- 69.1/124.9 MB 4.5 MB/s eta 0:00:13\n",
      "   ---------------------- ----------------- 69.3/124.9 MB 4.4 MB/s eta 0:00:13\n",
      "   ---------------------- ----------------- 69.6/124.9 MB 4.4 MB/s eta 0:00:13\n",
      "   ---------------------- ----------------- 69.9/124.9 MB 4.5 MB/s eta 0:00:13\n",
      "   ---------------------- ----------------- 70.2/124.9 MB 4.4 MB/s eta 0:00:13\n",
      "   ---------------------- ----------------- 70.6/124.9 MB 4.4 MB/s eta 0:00:13\n",
      "   ---------------------- ----------------- 70.9/124.9 MB 4.5 MB/s eta 0:00:13\n",
      "   ---------------------- ----------------- 71.4/124.9 MB 4.6 MB/s eta 0:00:12\n",
      "   ---------------------- ----------------- 71.8/124.9 MB 4.6 MB/s eta 0:00:12\n",
      "   ----------------------- ---------------- 72.3/124.9 MB 4.7 MB/s eta 0:00:12\n",
      "   ----------------------- ---------------- 72.6/124.9 MB 4.7 MB/s eta 0:00:12\n",
      "   ----------------------- ---------------- 73.3/124.9 MB 5.2 MB/s eta 0:00:10\n",
      "   ----------------------- ---------------- 73.4/124.9 MB 5.2 MB/s eta 0:00:10\n",
      "   ----------------------- ---------------- 73.4/124.9 MB 5.2 MB/s eta 0:00:10\n",
      "   ----------------------- ---------------- 73.4/124.9 MB 5.2 MB/s eta 0:00:10\n",
      "   ----------------------- ---------------- 73.4/124.9 MB 5.2 MB/s eta 0:00:10\n",
      "   ----------------------- ---------------- 74.0/124.9 MB 4.7 MB/s eta 0:00:11\n",
      "   ----------------------- ---------------- 74.9/124.9 MB 5.1 MB/s eta 0:00:10\n",
      "   ------------------------ --------------- 75.1/124.9 MB 5.7 MB/s eta 0:00:09\n",
      "   ------------------------ --------------- 75.1/124.9 MB 5.7 MB/s eta 0:00:09\n",
      "   ------------------------ --------------- 75.1/124.9 MB 5.7 MB/s eta 0:00:09\n",
      "   ------------------------ --------------- 75.2/124.9 MB 5.4 MB/s eta 0:00:10\n",
      "   ------------------------ --------------- 76.2/124.9 MB 5.9 MB/s eta 0:00:09\n",
      "   ------------------------ --------------- 76.6/124.9 MB 6.1 MB/s eta 0:00:08\n",
      "   ------------------------ --------------- 76.9/124.9 MB 6.1 MB/s eta 0:00:08\n",
      "   ------------------------ --------------- 77.3/124.9 MB 6.2 MB/s eta 0:00:08\n",
      "   ------------------------ --------------- 77.6/124.9 MB 6.5 MB/s eta 0:00:08\n",
      "   ------------------------ --------------- 77.9/124.9 MB 6.4 MB/s eta 0:00:08\n",
      "   ------------------------ --------------- 78.0/124.9 MB 6.4 MB/s eta 0:00:08\n",
      "   ------------------------- -------------- 78.4/124.9 MB 6.5 MB/s eta 0:00:08\n",
      "   ------------------------- -------------- 78.6/124.9 MB 6.6 MB/s eta 0:00:07\n",
      "   ------------------------- -------------- 79.0/124.9 MB 6.7 MB/s eta 0:00:07\n",
      "   ------------------------- -------------- 79.2/124.9 MB 6.7 MB/s eta 0:00:07\n",
      "   ------------------------- -------------- 79.5/124.9 MB 6.7 MB/s eta 0:00:07\n",
      "   ------------------------- -------------- 79.8/124.9 MB 6.7 MB/s eta 0:00:07\n",
      "   ------------------------- -------------- 80.0/124.9 MB 6.7 MB/s eta 0:00:07\n",
      "   ------------------------- -------------- 80.4/124.9 MB 6.7 MB/s eta 0:00:07\n",
      "   ------------------------- -------------- 80.7/124.9 MB 6.7 MB/s eta 0:00:07\n",
      "   ------------------------- -------------- 81.0/124.9 MB 6.6 MB/s eta 0:00:07\n",
      "   -------------------------- ------------- 81.2/124.9 MB 6.5 MB/s eta 0:00:07\n",
      "   -------------------------- ------------- 81.5/124.9 MB 6.5 MB/s eta 0:00:07\n",
      "   -------------------------- ------------- 81.8/124.9 MB 6.4 MB/s eta 0:00:07\n",
      "   -------------------------- ------------- 82.1/124.9 MB 6.4 MB/s eta 0:00:07\n",
      "   -------------------------- ------------- 82.4/124.9 MB 6.3 MB/s eta 0:00:07\n",
      "   -------------------------- ------------- 82.7/124.9 MB 6.2 MB/s eta 0:00:07\n",
      "   -------------------------- ------------- 83.0/124.9 MB 6.2 MB/s eta 0:00:07\n",
      "   -------------------------- ------------- 83.3/124.9 MB 6.0 MB/s eta 0:00:07\n",
      "   -------------------------- ------------- 83.4/124.9 MB 6.0 MB/s eta 0:00:07\n",
      "   -------------------------- ------------- 83.9/124.9 MB 6.7 MB/s eta 0:00:07\n",
      "   -------------------------- ------------- 84.2/124.9 MB 6.5 MB/s eta 0:00:07\n",
      "   --------------------------- ------------ 84.4/124.9 MB 6.4 MB/s eta 0:00:07\n",
      "   --------------------------- ------------ 84.7/124.9 MB 6.2 MB/s eta 0:00:07\n",
      "   --------------------------- ------------ 84.8/124.9 MB 6.2 MB/s eta 0:00:07\n",
      "   --------------------------- ------------ 85.1/124.9 MB 6.0 MB/s eta 0:00:07\n",
      "   --------------------------- ------------ 85.4/124.9 MB 6.5 MB/s eta 0:00:07\n",
      "   --------------------------- ------------ 85.8/124.9 MB 6.4 MB/s eta 0:00:07\n",
      "   --------------------------- ------------ 86.1/124.9 MB 6.2 MB/s eta 0:00:07\n",
      "   --------------------------- ------------ 86.2/124.9 MB 6.1 MB/s eta 0:00:07\n",
      "   --------------------------- ------------ 86.8/124.9 MB 6.1 MB/s eta 0:00:07\n",
      "   --------------------------- ------------ 86.9/124.9 MB 6.1 MB/s eta 0:00:07\n",
      "   --------------------------- ------------ 87.2/124.9 MB 6.0 MB/s eta 0:00:07\n",
      "   --------------------------- ------------ 87.4/124.9 MB 5.9 MB/s eta 0:00:07\n",
      "   ---------------------------- ----------- 87.6/124.9 MB 6.0 MB/s eta 0:00:07\n",
      "   ---------------------------- ----------- 87.9/124.9 MB 5.8 MB/s eta 0:00:07\n",
      "   ---------------------------- ----------- 88.2/124.9 MB 5.9 MB/s eta 0:00:07\n",
      "   ---------------------------- ----------- 88.4/124.9 MB 5.9 MB/s eta 0:00:07\n",
      "   ---------------------------- ----------- 88.6/124.9 MB 5.8 MB/s eta 0:00:07\n",
      "   ---------------------------- ----------- 89.0/124.9 MB 5.8 MB/s eta 0:00:07\n",
      "   ---------------------------- ----------- 89.2/124.9 MB 5.8 MB/s eta 0:00:07\n",
      "   ---------------------------- ----------- 89.5/124.9 MB 5.8 MB/s eta 0:00:07\n",
      "   ---------------------------- ----------- 89.6/124.9 MB 5.8 MB/s eta 0:00:07\n",
      "   ---------------------------- ----------- 90.0/124.9 MB 5.8 MB/s eta 0:00:07\n",
      "   ---------------------------- ----------- 90.3/124.9 MB 5.8 MB/s eta 0:00:06\n",
      "   ---------------------------- ----------- 90.5/124.9 MB 5.7 MB/s eta 0:00:06\n",
      "   ----------------------------- ---------- 90.7/124.9 MB 5.7 MB/s eta 0:00:06\n",
      "   ----------------------------- ---------- 91.0/124.9 MB 5.8 MB/s eta 0:00:06\n",
      "   ----------------------------- ---------- 91.3/124.9 MB 5.7 MB/s eta 0:00:06\n",
      "   ----------------------------- ---------- 91.6/124.9 MB 5.8 MB/s eta 0:00:06\n",
      "   ----------------------------- ---------- 91.8/124.9 MB 5.8 MB/s eta 0:00:06\n",
      "   ----------------------------- ---------- 92.1/124.9 MB 5.7 MB/s eta 0:00:06\n",
      "   ----------------------------- ---------- 92.4/124.9 MB 5.6 MB/s eta 0:00:06\n",
      "   ----------------------------- ---------- 92.6/124.9 MB 5.6 MB/s eta 0:00:06\n",
      "   ----------------------------- ---------- 92.9/124.9 MB 5.6 MB/s eta 0:00:06\n",
      "   ----------------------------- ---------- 93.1/124.9 MB 5.6 MB/s eta 0:00:06\n",
      "   ----------------------------- ---------- 93.4/124.9 MB 5.6 MB/s eta 0:00:06\n",
      "   ----------------------------- ---------- 93.6/124.9 MB 5.6 MB/s eta 0:00:06\n",
      "   ------------------------------ --------- 93.9/124.9 MB 5.6 MB/s eta 0:00:06\n",
      "   ------------------------------ --------- 94.2/124.9 MB 5.6 MB/s eta 0:00:06\n",
      "   ------------------------------ --------- 94.5/124.9 MB 5.5 MB/s eta 0:00:06\n",
      "   ------------------------------ --------- 94.8/124.9 MB 5.5 MB/s eta 0:00:06\n",
      "   ------------------------------ --------- 95.2/124.9 MB 5.7 MB/s eta 0:00:06\n",
      "   ------------------------------ --------- 95.5/124.9 MB 5.6 MB/s eta 0:00:06\n",
      "   ------------------------------ --------- 95.8/124.9 MB 5.8 MB/s eta 0:00:06\n",
      "   ------------------------------ --------- 96.3/124.9 MB 5.8 MB/s eta 0:00:05\n",
      "   ------------------------------ --------- 96.7/124.9 MB 5.8 MB/s eta 0:00:05\n",
      "   ------------------------------- -------- 96.9/124.9 MB 5.8 MB/s eta 0:00:05\n",
      "   ------------------------------- -------- 97.2/124.9 MB 6.1 MB/s eta 0:00:05\n",
      "   ------------------------------- -------- 97.4/124.9 MB 5.7 MB/s eta 0:00:05\n",
      "   ------------------------------- -------- 97.8/124.9 MB 6.0 MB/s eta 0:00:05\n",
      "   ------------------------------- -------- 98.3/124.9 MB 6.0 MB/s eta 0:00:05\n",
      "   ------------------------------- -------- 98.3/124.9 MB 6.0 MB/s eta 0:00:05\n",
      "   ------------------------------- -------- 98.7/124.9 MB 6.0 MB/s eta 0:00:05\n",
      "   ------------------------------- -------- 99.1/124.9 MB 6.1 MB/s eta 0:00:05\n",
      "   ------------------------------- -------- 99.4/124.9 MB 6.1 MB/s eta 0:00:05\n",
      "   ------------------------------- -------- 99.7/124.9 MB 6.2 MB/s eta 0:00:05\n",
      "   -------------------------------- ------- 100.0/124.9 MB 6.1 MB/s eta 0:00:05\n",
      "   -------------------------------- ------- 100.2/124.9 MB 6.2 MB/s eta 0:00:05\n",
      "   -------------------------------- ------- 100.6/124.9 MB 6.2 MB/s eta 0:00:04\n",
      "   -------------------------------- ------- 100.8/124.9 MB 6.3 MB/s eta 0:00:04\n",
      "   -------------------------------- ------- 101.1/124.9 MB 6.2 MB/s eta 0:00:04\n",
      "   -------------------------------- ------- 101.3/124.9 MB 6.2 MB/s eta 0:00:04\n",
      "   -------------------------------- ------- 101.7/124.9 MB 6.3 MB/s eta 0:00:04\n",
      "   -------------------------------- ------- 101.9/124.9 MB 6.2 MB/s eta 0:00:04\n",
      "   -------------------------------- ------- 102.2/124.9 MB 6.3 MB/s eta 0:00:04\n",
      "   -------------------------------- ------- 102.5/124.9 MB 6.2 MB/s eta 0:00:04\n",
      "   -------------------------------- ------- 102.7/124.9 MB 6.3 MB/s eta 0:00:04\n",
      "   -------------------------------- ------- 103.0/124.9 MB 6.4 MB/s eta 0:00:04\n",
      "   --------------------------------- ------ 103.3/124.9 MB 6.4 MB/s eta 0:00:04\n",
      "   --------------------------------- ------ 103.6/124.9 MB 6.4 MB/s eta 0:00:04\n",
      "   --------------------------------- ------ 103.7/124.9 MB 6.3 MB/s eta 0:00:04\n",
      "   --------------------------------- ------ 104.1/124.9 MB 6.3 MB/s eta 0:00:04\n",
      "   --------------------------------- ------ 104.4/124.9 MB 6.4 MB/s eta 0:00:04\n",
      "   --------------------------------- ------ 104.7/124.9 MB 6.4 MB/s eta 0:00:04\n",
      "   --------------------------------- ------ 104.9/124.9 MB 6.3 MB/s eta 0:00:04\n",
      "   --------------------------------- ------ 105.2/124.9 MB 6.3 MB/s eta 0:00:04\n",
      "   --------------------------------- ------ 105.4/124.9 MB 6.2 MB/s eta 0:00:04\n",
      "   --------------------------------- ------ 105.7/124.9 MB 6.2 MB/s eta 0:00:04\n",
      "   --------------------------------- ------ 105.8/124.9 MB 6.1 MB/s eta 0:00:04\n",
      "   --------------------------------- ------ 105.9/124.9 MB 6.0 MB/s eta 0:00:04\n",
      "   ---------------------------------- ----- 106.2/124.9 MB 6.0 MB/s eta 0:00:04\n",
      "   ---------------------------------- ----- 106.4/124.9 MB 5.8 MB/s eta 0:00:04\n",
      "   ---------------------------------- ----- 106.6/124.9 MB 5.9 MB/s eta 0:00:04\n",
      "   ---------------------------------- ----- 106.8/124.9 MB 5.7 MB/s eta 0:00:04\n",
      "   ---------------------------------- ----- 106.9/124.9 MB 5.6 MB/s eta 0:00:04\n",
      "   ---------------------------------- ----- 107.0/124.9 MB 5.5 MB/s eta 0:00:04\n",
      "   ---------------------------------- ----- 107.2/124.9 MB 5.4 MB/s eta 0:00:04\n",
      "   ---------------------------------- ----- 107.4/124.9 MB 5.3 MB/s eta 0:00:04\n",
      "   ---------------------------------- ----- 107.5/124.9 MB 5.5 MB/s eta 0:00:04\n",
      "   ---------------------------------- ----- 107.7/124.9 MB 5.4 MB/s eta 0:00:04\n",
      "   ---------------------------------- ----- 108.0/124.9 MB 5.3 MB/s eta 0:00:04\n",
      "   ---------------------------------- ----- 108.1/124.9 MB 5.2 MB/s eta 0:00:04\n",
      "   ---------------------------------- ----- 108.3/124.9 MB 5.1 MB/s eta 0:00:04\n",
      "   ---------------------------------- ----- 108.5/124.9 MB 5.0 MB/s eta 0:00:04\n",
      "   ---------------------------------- ----- 108.7/124.9 MB 5.1 MB/s eta 0:00:04\n",
      "   ---------------------------------- ----- 108.9/124.9 MB 5.0 MB/s eta 0:00:04\n",
      "   ---------------------------------- ----- 109.0/124.9 MB 5.0 MB/s eta 0:00:04\n",
      "   ---------------------------------- ----- 109.2/124.9 MB 4.9 MB/s eta 0:00:04\n",
      "   ----------------------------------- ---- 109.4/124.9 MB 4.9 MB/s eta 0:00:04\n",
      "   ----------------------------------- ---- 109.6/124.9 MB 4.8 MB/s eta 0:00:04\n",
      "   ----------------------------------- ---- 109.8/124.9 MB 4.7 MB/s eta 0:00:04\n",
      "   ----------------------------------- ---- 109.9/124.9 MB 4.7 MB/s eta 0:00:04\n",
      "   ----------------------------------- ---- 110.1/124.9 MB 4.7 MB/s eta 0:00:04\n",
      "   ----------------------------------- ---- 110.3/124.9 MB 4.6 MB/s eta 0:00:04\n",
      "   ----------------------------------- ---- 110.4/124.9 MB 4.6 MB/s eta 0:00:04\n",
      "   ----------------------------------- ---- 110.7/124.9 MB 4.5 MB/s eta 0:00:04\n",
      "   ----------------------------------- ---- 110.8/124.9 MB 4.5 MB/s eta 0:00:04\n",
      "   ----------------------------------- ---- 111.0/124.9 MB 4.5 MB/s eta 0:00:04\n",
      "   ----------------------------------- ---- 111.2/124.9 MB 4.4 MB/s eta 0:00:04\n",
      "   ----------------------------------- ---- 111.4/124.9 MB 4.4 MB/s eta 0:00:04\n",
      "   ----------------------------------- ---- 111.6/124.9 MB 4.4 MB/s eta 0:00:04\n",
      "   ----------------------------------- ---- 111.8/124.9 MB 4.4 MB/s eta 0:00:03\n",
      "   ----------------------------------- ---- 112.1/124.9 MB 4.4 MB/s eta 0:00:03\n",
      "   ----------------------------------- ---- 112.4/124.9 MB 4.4 MB/s eta 0:00:03\n",
      "   ------------------------------------ --- 112.6/124.9 MB 4.4 MB/s eta 0:00:03\n",
      "   ------------------------------------ --- 112.9/124.9 MB 4.4 MB/s eta 0:00:03\n",
      "   ------------------------------------ --- 113.3/124.9 MB 4.4 MB/s eta 0:00:03\n",
      "   ------------------------------------ --- 113.6/124.9 MB 4.5 MB/s eta 0:00:03\n",
      "   ------------------------------------ --- 114.0/124.9 MB 4.5 MB/s eta 0:00:03\n",
      "   ------------------------------------ --- 114.4/124.9 MB 4.5 MB/s eta 0:00:03\n",
      "   ------------------------------------ --- 114.8/124.9 MB 4.5 MB/s eta 0:00:03\n",
      "   ------------------------------------ --- 115.3/124.9 MB 4.6 MB/s eta 0:00:03\n",
      "   ------------------------------------- -- 115.8/124.9 MB 4.7 MB/s eta 0:00:02\n",
      "   ------------------------------------- -- 116.3/124.9 MB 4.9 MB/s eta 0:00:02\n",
      "   ------------------------------------- -- 116.5/124.9 MB 5.0 MB/s eta 0:00:02\n",
      "   ------------------------------------- -- 116.8/124.9 MB 5.0 MB/s eta 0:00:02\n",
      "   ------------------------------------- -- 117.0/124.9 MB 4.9 MB/s eta 0:00:02\n",
      "   ------------------------------------- -- 117.4/124.9 MB 5.2 MB/s eta 0:00:02\n",
      "   ------------------------------------- -- 117.6/124.9 MB 5.2 MB/s eta 0:00:02\n",
      "   ------------------------------------- -- 118.0/124.9 MB 5.4 MB/s eta 0:00:02\n",
      "   ------------------------------------- -- 118.2/124.9 MB 5.3 MB/s eta 0:00:02\n",
      "   ------------------------------------- -- 118.4/124.9 MB 5.3 MB/s eta 0:00:02\n",
      "   ------------------------------------- -- 118.6/124.9 MB 5.5 MB/s eta 0:00:02\n",
      "   ------------------------------------- -- 118.6/124.9 MB 5.3 MB/s eta 0:00:02\n",
      "   -------------------------------------- - 119.2/124.9 MB 5.5 MB/s eta 0:00:02\n",
      "   -------------------------------------- - 119.5/124.9 MB 5.7 MB/s eta 0:00:01\n",
      "   -------------------------------------- - 119.6/124.9 MB 5.7 MB/s eta 0:00:01\n",
      "   -------------------------------------- - 119.9/124.9 MB 5.6 MB/s eta 0:00:01\n",
      "   -------------------------------------- - 120.1/124.9 MB 5.8 MB/s eta 0:00:01\n",
      "   -------------------------------------- - 120.3/124.9 MB 5.6 MB/s eta 0:00:01\n",
      "   -------------------------------------- - 120.4/124.9 MB 5.8 MB/s eta 0:00:01\n",
      "   -------------------------------------- - 120.6/124.9 MB 5.7 MB/s eta 0:00:01\n",
      "   -------------------------------------- - 120.8/124.9 MB 5.7 MB/s eta 0:00:01\n",
      "   -------------------------------------- - 121.0/124.9 MB 5.7 MB/s eta 0:00:01\n",
      "   -------------------------------------- - 121.3/124.9 MB 5.9 MB/s eta 0:00:01\n",
      "   -------------------------------------- - 121.5/124.9 MB 5.9 MB/s eta 0:00:01\n",
      "   ---------------------------------------  121.8/124.9 MB 5.9 MB/s eta 0:00:01\n",
      "   ---------------------------------------  122.0/124.9 MB 5.9 MB/s eta 0:00:01\n",
      "   ---------------------------------------  122.2/124.9 MB 6.0 MB/s eta 0:00:01\n",
      "   ---------------------------------------  122.5/124.9 MB 5.9 MB/s eta 0:00:01\n",
      "   ---------------------------------------  122.7/124.9 MB 5.8 MB/s eta 0:00:01\n",
      "   ---------------------------------------  122.9/124.9 MB 5.8 MB/s eta 0:00:01\n",
      "   ---------------------------------------  122.9/124.9 MB 5.8 MB/s eta 0:00:01\n",
      "   ---------------------------------------  123.3/124.9 MB 5.6 MB/s eta 0:00:01\n",
      "   ---------------------------------------  123.7/124.9 MB 5.7 MB/s eta 0:00:01\n",
      "   ---------------------------------------  124.0/124.9 MB 5.6 MB/s eta 0:00:01\n",
      "   ---------------------------------------  124.3/124.9 MB 5.6 MB/s eta 0:00:01\n",
      "   ---------------------------------------  124.4/124.9 MB 5.6 MB/s eta 0:00:01\n",
      "   ---------------------------------------  124.9/124.9 MB 5.5 MB/s eta 0:00:01\n",
      "   ---------------------------------------  124.9/124.9 MB 5.5 MB/s eta 0:00:01\n",
      "   ---------------------------------------  124.9/124.9 MB 5.5 MB/s eta 0:00:01\n",
      "   ---------------------------------------  124.9/124.9 MB 5.5 MB/s eta 0:00:01\n",
      "   ---------------------------------------  124.9/124.9 MB 5.5 MB/s eta 0:00:01\n",
      "   ---------------------------------------  124.9/124.9 MB 5.5 MB/s eta 0:00:01\n",
      "   ---------------------------------------  124.9/124.9 MB 5.5 MB/s eta 0:00:01\n",
      "   ---------------------------------------  124.9/124.9 MB 5.5 MB/s eta 0:00:01\n",
      "   ---------------------------------------- 124.9/124.9 MB 4.7 MB/s eta 0:00:00\n",
      "Installing collected packages: xgboost\n",
      "Successfully installed xgboost-2.1.1\n",
      "XGBoost - RMSE: 11.308366199259513\n",
      "XGBoost - R²: 0.9811474892868699\n"
     ]
    },
    {
     "name": "stderr",
     "output_type": "stream",
     "text": [
      "C:\\Users\\pdtha\\anaconda3\\Lib\\site-packages\\sklearn\\metrics\\_regression.py:483: FutureWarning: 'squared' is deprecated in version 1.4 and will be removed in 1.6. To calculate the root mean squared error, use the function'root_mean_squared_error'.\n",
      "  warnings.warn(\n"
     ]
    }
   ],
   "source": [
    "!pip install xgboost\n",
    "from xgboost import XGBRegressor\n",
    "# ML Model - 3: XGBoost\n",
    "xgb = XGBRegressor()\n",
    "xgb.fit(X_train, y_train)\n",
    "y_pred_xgb = xgb.predict(X_test)\n",
    "\n",
    "# Performance evaluation\n",
    "print(\"XGBoost - RMSE:\", mean_squared_error(y_test, y_pred_xgb, squared=False))\n",
    "print(\"XGBoost - R²:\", r2_score(y_test, y_pred_xgb))"
   ]
  },
  {
   "cell_type": "code",
   "execution_count": 202,
   "metadata": {},
   "outputs": [],
   "source": [
    "# Hyperparameter tuning for XGBoost\n",
    "xgb_param_grid = {\n",
    "    'n_estimators': [50, 100, 200],\n",
    "    'max_depth': [3, 5, 7],\n",
    "    'learning_rate': [0.01, 0.1, 0.2]\n",
    "}\n",
    "\n",
    "xgb_grid_search = GridSearchCV(XGBRegressor(), xgb_param_grid, cv=5, scoring='neg_mean_squared_error', n_jobs=-1)\n",
    "xgb_grid_search.fit(X_train, y_train)\n",
    "\n",
    "xgb_best_model = xgb_grid_search.best_estimator_\n",
    "y_pred_xgb_best = xgb_best_model.predict(X_test)\n"
   ]
  },
  {
   "cell_type": "code",
   "execution_count": 204,
   "metadata": {},
   "outputs": [
    {
     "name": "stdout",
     "output_type": "stream",
     "text": [
      "XGBoost - RMSE: 9.684510088777444\n",
      "XGBoost - R²: 0.9861731013204468\n"
     ]
    },
    {
     "name": "stderr",
     "output_type": "stream",
     "text": [
      "C:\\Users\\pdtha\\anaconda3\\Lib\\site-packages\\sklearn\\metrics\\_regression.py:483: FutureWarning: 'squared' is deprecated in version 1.4 and will be removed in 1.6. To calculate the root mean squared error, use the function'root_mean_squared_error'.\n",
      "  warnings.warn(\n"
     ]
    }
   ],
   "source": [
    "# Performance evaluation after tuning\n",
    "print(\"XGBoost - RMSE:\", mean_squared_error(y_test, y_pred_xgb_best, squared=False))\n",
    "print(\"XGBoost - R²:\", r2_score(y_test, y_pred_xgb_best))"
   ]
  },
  {
   "cell_type": "code",
   "execution_count": 206,
   "metadata": {},
   "outputs": [
    {
     "name": "stderr",
     "output_type": "stream",
     "text": [
      "C:\\Users\\pdtha\\anaconda3\\Lib\\site-packages\\sklearn\\metrics\\_regression.py:483: FutureWarning: 'squared' is deprecated in version 1.4 and will be removed in 1.6. To calculate the root mean squared error, use the function'root_mean_squared_error'.\n",
      "  warnings.warn(\n",
      "C:\\Users\\pdtha\\anaconda3\\Lib\\site-packages\\sklearn\\metrics\\_regression.py:483: FutureWarning: 'squared' is deprecated in version 1.4 and will be removed in 1.6. To calculate the root mean squared error, use the function'root_mean_squared_error'.\n",
      "  warnings.warn(\n",
      "C:\\Users\\pdtha\\anaconda3\\Lib\\site-packages\\sklearn\\metrics\\_regression.py:483: FutureWarning: 'squared' is deprecated in version 1.4 and will be removed in 1.6. To calculate the root mean squared error, use the function'root_mean_squared_error'.\n",
      "  warnings.warn(\n"
     ]
    },
    {
     "data": {
      "image/png": "[encoded data removed]",
      "text/plain": [
       "<Figure size 1000x600 with 2 Axes>"
      ]
     },
     "metadata": {},
     "output_type": "display_data"
    }
   ],
   "source": [
    "# Performance evaluation\n",
    "models = ['Random Forest', 'Gradient Boosting', 'XGBoost']\n",
    "predictions = [y_pred_rf_best, y_pred_gb_best, y_pred_xgb_best]\n",
    "rmses = [mean_squared_error(y_test, pred, squared=False) for pred in predictions]\n",
    "r2_scores = [r2_score(y_test, pred) for pred in predictions]\n",
    "\n",
    "# Visualization of evaluation metrics\n",
    "x = np.arange(len(models))\n",
    "width = 0.35\n",
    "\n",
    "fig, ax1 = plt.subplots(figsize=(10, 6))\n",
    "\n",
    "ax2 = ax1.twinx()\n",
    "bar1 = ax1.bar(x - width/2, rmses, width, label='RMSE', color='b')\n",
    "bar2 = ax2.bar(x + width/2, r2_scores, width, label='R² Score', color='g')\n",
    "\n",
    "ax1.set_xlabel('Models')\n",
    "ax1.set_ylabel('RMSE', color='b')\n",
    "ax2.set_ylabel('R² Score', color='g')\n",
    "ax1.set_title('Model Performance Comparison')\n",
    "ax1.set_xticks(x)\n",
    "ax1.set_xticklabels(models)\n",
    "\n",
    "ax1.legend(loc='upper left')\n",
    "ax2.legend(loc='upper right')\n",
    "\n",
    "plt.show()\n"
   ]
  },
  {
   "cell_type": "markdown",
   "metadata": {
    "id": "h_CCil-SKHpo"
   },
   "source": [
    "### 1. Which Evaluation metrics did you consider for a positive business impact and why?"
   ]
  },
  {
   "cell_type": "markdown",
   "metadata": {},
   "source": [
    "### R² Score: The coefficient of determination (R²) indicates how well the model explains the variability of the target variable. A higher R² value signifies that the model captures the underlying patterns in the data, which can lead to better decision-making based on model predictions."
   ]
  },
  {
   "cell_type": "markdown",
   "metadata": {
    "id": "cBFFvTBNJzUa"
   },
   "source": [
    "### 2. Which ML model did you choose from the above created models as your final prediction model and why?"
   ]
  },
  {
   "cell_type": "markdown",
   "metadata": {
    "id": "6ksF5Q1LKTVm"
   },
   "source": [
    "#### Gradient Boosting is the preferred model based on its lower RMSE and higher R² score."
   ]
  },
  {
   "cell_type": "markdown",
   "metadata": {
    "id": "EyNgTHvd2WFk"
   },
   "source": [
    "## ***8.*** ***Future Work (Optional)***"
   ]
  },
  {
   "cell_type": "markdown",
   "metadata": {
    "id": "KH5McJBi2d8v"
   },
   "source": [
    "### 1. Save the best performing ml model in a pickle file or joblib file format for deployment process.\n"
   ]
  },
  {
   "cell_type": "code",
   "execution_count": 212,
   "metadata": {
    "id": "bQIANRl32f4J"
   },
   "outputs": [
    {
     "name": "stderr",
     "output_type": "stream",
     "text": [
      "<>:2: SyntaxWarning: invalid escape sequence '\\D'\n",
      "<>:2: SyntaxWarning: invalid escape sequence '\\D'\n",
      "C:\\Users\\pdtha\\AppData\\Local\\Temp\\ipykernel_23880\\2251192186.py:2: SyntaxWarning: invalid escape sequence '\\D'\n",
      "  joblib.dump(gb_best_model, 'C:\\Data Science Project\\Yes Bank Stock Price Prediction/.best_model.pkl')\n"
     ]
    },
    {
     "data": {
      "text/plain": [
       "['C:\\\\Data Science Project\\\\Yes Bank Stock Price Prediction/.best_model.pkl']"
      ]
     },
     "execution_count": 212,
     "metadata": {},
     "output_type": "execute_result"
    }
   ],
   "source": [
    "# Save the best performing model\n",
    "joblib.dump(gb_best_model, 'C:\\Data Science Project\\Yes Bank Stock Price Prediction/.best_model.pkl')\n",
    "\n"
   ]
  },
  {
   "cell_type": "code",
   "execution_count": 219,
   "metadata": {},
   "outputs": [
    {
     "data": {
      "text/plain": [
       "['C:\\\\Data Science Project\\\\Yes Bank Stock Price Prediction\\\\scaler.pkl']"
      ]
     },
     "execution_count": 219,
     "metadata": {},
     "output_type": "execute_result"
    }
   ],
   "source": [
    "joblib.dump(scaler, r'C:\\Data Science Project\\Yes Bank Stock Price Prediction\\scaler.pkl')"
   ]
  },
  {
   "cell_type": "markdown",
   "metadata": {
    "id": "iW_Lq9qf2h6X"
   },
   "source": [
    "### 2. Again Load the saved model file and try to predict unseen data for a sanity check.\n"
   ]
  },
  {
   "cell_type": "code",
   "execution_count": 214,
   "metadata": {
    "id": "oEXk9ydD2nVC"
   },
   "outputs": [
    {
     "name": "stderr",
     "output_type": "stream",
     "text": [
      "<>:2: SyntaxWarning: invalid escape sequence '\\D'\n",
      "<>:2: SyntaxWarning: invalid escape sequence '\\D'\n",
      "C:\\Users\\pdtha\\AppData\\Local\\Temp\\ipykernel_23880\\3903063841.py:2: SyntaxWarning: invalid escape sequence '\\D'\n",
      "  loaded_model = joblib.load('C:\\Data Science Project\\Yes Bank Stock Price Prediction/.best_model.pkl')\n"
     ]
    }
   ],
   "source": [
    "# Load the model and predict unseen data\n",
    "loaded_model = joblib.load('C:\\Data Science Project\\Yes Bank Stock Price Prediction/.best_model.pkl')\n"
   ]
  },
  {
   "cell_type": "code",
   "execution_count": 216,
   "metadata": {},
   "outputs": [
    {
     "name": "stdout",
     "output_type": "stream",
     "text": [
      "Prediction for unseen data: [17.6869535]\n"
     ]
    },
    {
     "name": "stderr",
     "output_type": "stream",
     "text": [
      "C:\\Users\\pdtha\\anaconda3\\Lib\\site-packages\\sklearn\\base.py:493: UserWarning: X does not have valid feature names, but MinMaxScaler was fitted with feature names\n",
      "  warnings.warn(\n"
     ]
    }
   ],
   "source": [
    "sample_data = np.array([[15, 20, 14, 5, 6]])  # Example input\n",
    "sample_data_scaled = scaler.transform(sample_data)\n",
    "prediction = loaded_model.predict(sample_data_scaled)\n",
    "print(\"Prediction for unseen data:\", prediction)"
   ]
  },
  {
   "cell_type": "markdown",
   "metadata": {
    "id": "-Kee-DAl2viO"
   },
   "source": [
    "### ***Congrats! Your model is successfully created and ready for deployment on a live server for a real user interaction !!!***"
   ]
  },
  {
   "cell_type": "markdown",
   "metadata": {
    "id": "gCX9965dhzqZ"
   },
   "source": [
    "# **Conclusion**"
   ]
  },
  {
   "cell_type": "markdown",
   "metadata": {
    "id": "Fjb1IsQkh3yE"
   },
   "source": [
    "In this machine learning project, we successfully developed and evaluated multiple regression models to predict the target variable based on historical data. Through systematic data preprocessing, feature engineering, and rigorous hyperparameter tuning, we ensured that the models were optimized for performance.\n",
    "\n",
    "The evaluation metrics—Mean Absolute Error (MAE), Root Mean Squared Error (RMSE), and R² Score—provided a comprehensive understanding of each model's predictive capabilities. Among the models tested, the Gradient Boosting Regressor emerged as the most effective, demonstrating a robust balance of accuracy and interpretability. Its superior performance metrics highlighted its capability to capture complex patterns in the data, making it a suitable choice for business applications where precision is critical.\n",
    "\n",
    "This project not only emphasizes the importance of careful model selection and evaluation in machine learning but also underscores the value of continuous improvement through iterative testing and tuning. By deploying the selected model, the business can leverage predictive insights to inform decision-making, optimize operations, and ultimately enhance overall performance."
   ]
  },
  {
   "cell_type": "markdown",
   "metadata": {
    "id": "gIfDvo9L0UH2"
   },
   "source": [
    "### ***Hurrah! You have successfully completed your Machine Learning Capstone Project !!!***"
   ]
  }
 ],
 "metadata": {
  "colab": {
   "collapsed_sections": [
    "vncDsAP0Gaoa",
    "FJNUwmbgGyua",
    "w6K7xa23Elo4",
    "yQaldy8SH6Dl",
    "mDgbUHAGgjLW",
    "O_i_v8NEhb9l",
    "HhfV-JJviCcP",
    "Y3lxredqlCYt",
    "3RnN4peoiCZX",
    "x71ZqKXriCWQ",
    "7hBIi_osiCS2",
    "JlHwYmJAmNHm",
    "35m5QtbWiB9F",
    "PoPl-ycgm1ru",
    "H0kj-8xxnORC",
    "nA9Y7ga8ng1Z",
    "PBTbrJXOngz2",
    "u3PMJOP6ngxN",
    "dauF4eBmngu3",
    "bKJF3rekwFvQ",
    "MSa1f5Uengrz",
    "GF8Ens_Soomf",
    "0wOQAZs5pc--",
    "K5QZ13OEpz2H",
    "lQ7QKXXCp7Bj",
    "448CDAPjqfQr",
    "KSlN3yHqYklG",
    "t6dVpIINYklI",
    "ijmpgYnKYklI",
    "-JiQyfWJYklI",
    "EM7whBJCYoAo",
    "fge-S5ZAYoAp",
    "85gYPyotYoAp",
    "RoGjAbkUYoAp",
    "4Of9eVA-YrdM",
    "iky9q4vBYrdO",
    "F6T5p64dYrdO",
    "y-Ehk30pYrdP",
    "bamQiAODYuh1",
    "QHF8YVU7Yuh3",
    "GwzvFGzlYuh3",
    "qYpmQ266Yuh3",
    "OH-pJp9IphqM",
    "bbFf2-_FphqN",
    "_ouA3fa0phqN",
    "Seke61FWphqN",
    "PIIx-8_IphqN",
    "t27r6nlMphqO",
    "r2jJGEOYphqO",
    "b0JNsNcRphqO",
    "BZR9WyysphqO",
    "jj7wYXLtphqO",
    "eZrbJ2SmphqO",
    "rFu4xreNphqO",
    "YJ55k-q6phqO",
    "gCFgpxoyphqP",
    "OVtJsKN_phqQ",
    "lssrdh5qphqQ",
    "U2RJ9gkRphqQ",
    "1M8mcRywphqQ",
    "tgIPom80phqQ",
    "JMzcOPDDphqR",
    "x-EpHcCOp1ci",
    "X_VqEhTip1ck",
    "8zGJKyg5p1ck",
    "PVzmfK_Ep1ck",
    "n3dbpmDWp1ck",
    "ylSl6qgtp1ck",
    "ZWILFDl5p1ck",
    "M7G43BXep1ck",
    "Ag9LCva-p1cl",
    "E6MkPsBcp1cl",
    "2cELzS2fp1cl",
    "3MPXvC8up1cl",
    "NC_X3p0fY2L0",
    "UV0SzAkaZNRQ",
    "YPEH6qLeZNRQ",
    "q29F0dvdveiT",
    "EXh0U9oCveiU",
    "22aHeOlLveiV",
    "g-ATYxFrGrvw",
    "Yfr_Vlr8HBkt",
    "8yEUt7NnHlrM",
    "tEA2Xm5dHt1r",
    "I79__PHVH19G",
    "Ou-I18pAyIpj",
    "fF3858GYyt-u",
    "4_0_7-oCpUZd",
    "hwyV_J3ipUZe",
    "3yB-zSqbpUZe",
    "dEUvejAfpUZe",
    "Fd15vwWVpUZf",
    "bn_IUdTipZyH",
    "49K5P_iCpZyH",
    "Nff-vKELpZyI",
    "kLW572S8pZyI",
    "dWbDXHzopZyI",
    "yLjJCtPM0KBk",
    "xiyOF9F70UgQ",
    "7wuGOrhz0itI",
    "id1riN9m0vUs",
    "578E2V7j08f6",
    "89xtkJwZ18nB",
    "67NQN5KX2AMe",
    "Iwf50b-R2tYG",
    "GMQiZwjn3iu7",
    "WVIkgGqN3qsr",
    "XkPnILGE3zoT",
    "Hlsf0x5436Go",
    "mT9DMSJo4nBL",
    "c49ITxTc407N",
    "OeJFEK0N496M",
    "9ExmJH0g5HBk",
    "cJNqERVU536h",
    "k5UmGsbsOxih",
    "T0VqWOYE6DLQ",
    "qBMux9mC6MCf",
    "-oLEiFgy-5Pf",
    "C74aWNz2AliB",
    "2DejudWSA-a0",
    "pEMng2IbBLp7",
    "rAdphbQ9Bhjc",
    "TNVZ9zx19K6k",
    "nqoHp30x9hH9",
    "rMDnDkt2B6du",
    "yiiVWRdJDDil",
    "1UUpS68QDMuG",
    "kexQrXU-DjzY",
    "T5CmagL3EC8N",
    "BhH2vgX9EjGr",
    "qjKvONjwE8ra",
    "P1XJ9OREExlT",
    "VFOzZv6IFROw",
    "TIqpNgepFxVj",
    "VfCC591jGiD4",
    "OB4l2ZhMeS1U",
    "ArJBuiUVfxKd",
    "4qY1EAkEfxKe",
    "PiV4Ypx8fxKe",
    "TfvqoZmBfxKf",
    "dJ2tPlVmpsJ0",
    "JWYfwnehpsJ1",
    "-jK_YjpMpsJ2",
    "HAih1iBOpsJ2",
    "zVGeBEFhpsJ2",
    "bmKjuQ-FpsJ3",
    "Fze-IPXLpx6K",
    "7AN1z2sKpx6M",
    "9PIHJqyupx6M",
    "_-qAgymDpx6N",
    "Z-hykwinpx6N",
    "h_CCil-SKHpo",
    "cBFFvTBNJzUa",
    "HvGl1hHyA_VK",
    "EyNgTHvd2WFk",
    "KH5McJBi2d8v",
    "iW_Lq9qf2h6X",
    "-Kee-DAl2viO",
    "gCX9965dhzqZ",
    "gIfDvo9L0UH2"
   ],
   "private_outputs": true,
   "provenance": []
  },
  "kernelspec": {
   "display_name": "Python 3 (ipykernel)",
   "language": "python",
   "name": "python3"
  },
  "language_info": {
   "codemirror_mode": {
    "name": "ipython",
    "version": 3
   },
   "file_extension": ".py",
   "mimetype": "text/x-python",
   "name": "python",
   "nbconvert_exporter": "python",
   "pygments_lexer": "ipython3",
   "version": "3.12.4"
  }
 },
 "nbformat": 4,
 "nbformat_minor": 4
}
